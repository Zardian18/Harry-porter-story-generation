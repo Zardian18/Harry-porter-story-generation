{
  "nbformat": 4,
  "nbformat_minor": 0,
  "metadata": {
    "colab": {
      "provenance": [],
      "gpuType": "T4",
      "authorship_tag": "ABX9TyPp2WBLdYE2L7QYXUW8vmO9",
      "include_colab_link": true
    },
    "kernelspec": {
      "name": "python3",
      "display_name": "Python 3"
    },
    "language_info": {
      "name": "python"
    },
    "accelerator": "GPU"
  },
  "cells": [
    {
      "cell_type": "markdown",
      "metadata": {
        "id": "view-in-github",
        "colab_type": "text"
      },
      "source": [
        "<a href=\"https://colab.research.google.com/github/Zardian18/Harry-porter-story-generation/blob/master/LSTM_practice.ipynb\" target=\"_parent\"><img src=\"https://colab.research.google.com/assets/colab-badge.svg\" alt=\"Open In Colab\"/></a>"
      ]
    },
    {
      "cell_type": "code",
      "execution_count": 1,
      "metadata": {
        "colab": {
          "base_uri": "https://localhost:8080/"
        },
        "id": "r85u2aO5qSzQ",
        "outputId": "cf4cb27c-2805-4c50-c286-d310e639e120"
      },
      "outputs": [
        {
          "output_type": "stream",
          "name": "stdout",
          "text": [
            "--2024-01-25 09:13:54--  https://raw.githubusercontent.com/Zardian18/helper-functions-colab/master/helper.py\n",
            "Resolving raw.githubusercontent.com (raw.githubusercontent.com)... 185.199.108.133, 185.199.109.133, 185.199.110.133, ...\n",
            "Connecting to raw.githubusercontent.com (raw.githubusercontent.com)|185.199.108.133|:443... connected.\n",
            "HTTP request sent, awaiting response... 200 OK\n",
            "Length: 17171 (17K) [text/plain]\n",
            "Saving to: ‘helper.py’\n",
            "\n",
            "\rhelper.py             0%[                    ]       0  --.-KB/s               \rhelper.py           100%[===================>]  16.77K  --.-KB/s    in 0s      \n",
            "\n",
            "2024-01-25 09:13:54 (84.7 MB/s) - ‘helper.py’ saved [17171/17171]\n",
            "\n"
          ]
        }
      ],
      "source": [
        "!wget https://raw.githubusercontent.com/Zardian18/helper-functions-colab/master/helper.py"
      ]
    },
    {
      "cell_type": "code",
      "source": [
        "!pip install kaggle"
      ],
      "metadata": {
        "colab": {
          "base_uri": "https://localhost:8080/"
        },
        "id": "i87B-wxHr90B",
        "outputId": "243442e4-e40c-4dbd-ac6f-feeb56318c0b"
      },
      "execution_count": 2,
      "outputs": [
        {
          "output_type": "stream",
          "name": "stdout",
          "text": [
            "Requirement already satisfied: kaggle in /usr/local/lib/python3.10/dist-packages (1.5.16)\n",
            "Requirement already satisfied: six>=1.10 in /usr/local/lib/python3.10/dist-packages (from kaggle) (1.16.0)\n",
            "Requirement already satisfied: certifi in /usr/local/lib/python3.10/dist-packages (from kaggle) (2023.11.17)\n",
            "Requirement already satisfied: python-dateutil in /usr/local/lib/python3.10/dist-packages (from kaggle) (2.8.2)\n",
            "Requirement already satisfied: requests in /usr/local/lib/python3.10/dist-packages (from kaggle) (2.31.0)\n",
            "Requirement already satisfied: tqdm in /usr/local/lib/python3.10/dist-packages (from kaggle) (4.66.1)\n",
            "Requirement already satisfied: python-slugify in /usr/local/lib/python3.10/dist-packages (from kaggle) (8.0.1)\n",
            "Requirement already satisfied: urllib3 in /usr/local/lib/python3.10/dist-packages (from kaggle) (2.0.7)\n",
            "Requirement already satisfied: bleach in /usr/local/lib/python3.10/dist-packages (from kaggle) (6.1.0)\n",
            "Requirement already satisfied: webencodings in /usr/local/lib/python3.10/dist-packages (from bleach->kaggle) (0.5.1)\n",
            "Requirement already satisfied: text-unidecode>=1.3 in /usr/local/lib/python3.10/dist-packages (from python-slugify->kaggle) (1.3)\n",
            "Requirement already satisfied: charset-normalizer<4,>=2 in /usr/local/lib/python3.10/dist-packages (from requests->kaggle) (3.3.2)\n",
            "Requirement already satisfied: idna<4,>=2.5 in /usr/local/lib/python3.10/dist-packages (from requests->kaggle) (3.6)\n"
          ]
        }
      ]
    },
    {
      "cell_type": "code",
      "source": [
        "from google.colab import drive\n",
        "drive.mount(\"/content/drive\")\n",
        "\n",
        "! mkdir ~/.kaggle\n",
        "!cp /content/drive/MyDrive/kaggle/kaggle.json ~/.kaggle/kaggle.json\n",
        "!chmod 600 ~/.kaggle/kaggle.json"
      ],
      "metadata": {
        "colab": {
          "base_uri": "https://localhost:8080/"
        },
        "id": "yU_MaOBjr_Je",
        "outputId": "20c1455b-0532-41b9-aaaa-d9bed014fe01"
      },
      "execution_count": 3,
      "outputs": [
        {
          "output_type": "stream",
          "name": "stdout",
          "text": [
            "Mounted at /content/drive\n"
          ]
        }
      ]
    },
    {
      "cell_type": "code",
      "source": [
        "import numpy as np\n",
        "import json\n",
        "import re\n",
        "import string\n",
        "import tensorflow as tf\n",
        "from tensorflow.keras import layers, models, callbacks, losses\n",
        "import pandas as pd"
      ],
      "metadata": {
        "id": "mDu0QOFpv4c_"
      },
      "execution_count": 4,
      "outputs": []
    },
    {
      "cell_type": "code",
      "source": [
        "! kaggle datasets download -d utsavk02/4-light-novel-for-text-generation"
      ],
      "metadata": {
        "colab": {
          "base_uri": "https://localhost:8080/"
        },
        "id": "B_XxqYRozCzy",
        "outputId": "eb73bd01-5445-4456-a8bc-2ac552f23b60"
      },
      "execution_count": 5,
      "outputs": [
        {
          "output_type": "stream",
          "name": "stdout",
          "text": [
            "Downloading 4-light-novel-for-text-generation.zip to /content\n",
            " 83% 3.00M/3.61M [00:00<00:00, 5.58MB/s]\n",
            "100% 3.61M/3.61M [00:00<00:00, 5.54MB/s]\n"
          ]
        }
      ]
    },
    {
      "cell_type": "code",
      "source": [
        "! unzip 4-light-novel-for-text-generation.zip"
      ],
      "metadata": {
        "colab": {
          "base_uri": "https://localhost:8080/"
        },
        "id": "EBc-rZdSzEtj",
        "outputId": "60a85863-01b9-48ec-d844-98da72814eea"
      },
      "execution_count": 6,
      "outputs": [
        {
          "output_type": "stream",
          "name": "stdout",
          "text": [
            "Archive:  4-light-novel-for-text-generation.zip\n",
            "  inflating: Against the Gods/Against the Gods - Volume 1.txt  \n",
            "  inflating: Level 999 Villager/LV999-Villager-Volume-1.txt  \n",
            "  inflating: Level 999 Villager/LV999-Villager-Volume-2.txt  \n",
            "  inflating: Level 999 Villager/LV999-Villager-Volume-3.txt  \n",
            "  inflating: Level 999 Villager/LV999-Villager-Volume-4.txt  \n",
            "  inflating: Level 999 Villager/LV999-Villager-Volume-5.txt  \n",
            "  inflating: Level 999 Villager/LV999-Villager-Volume-6.txt  \n",
            "  inflating: The Dungeon Seeker/The-Dungeon-Seeker-Volume-3.txt  \n",
            "  inflating: The Dungeon Seeker/The-Dungeon-Seeker-Volume-4.txt  \n",
            "  inflating: The Skeleton Knight/Skeleton Knight - Volume 4.txt  \n",
            "  inflating: The Skeleton Knight/Skeleton Knight - Volume 5.txt  \n",
            "  inflating: The Skeleton Knight/Skeleton Knight - Volume 6.txt  \n",
            "  inflating: harrypotter/Book 1 - The Philosophers Stone.txt  \n",
            "  inflating: harrypotter/Book 2 - The Chamber of Secrets.txt  \n",
            "  inflating: harrypotter/Book 3 - The Prisoner of Azkaban.txt  \n",
            "  inflating: harrypotter/Book 4 - The Goblet of Fire.txt  \n",
            "  inflating: harrypotter/Book 5 - The Order of the Phoenix.txt  \n",
            "  inflating: harrypotter/Book 6 - The Half Blood Prince.txt  \n",
            "  inflating: harrypotter/Book 7 - The Deathly Hallows.txt  \n"
          ]
        }
      ]
    },
    {
      "cell_type": "code",
      "source": [
        "file_paths = ['/content/harrypotter/Book 1 - The Philosophers Stone.txt',\n",
        "              '/content/harrypotter/Book 2 - The Chamber of Secrets.txt',\n",
        "              '/content/harrypotter/Book 3 - The Prisoner of Azkaban.txt',\n",
        "              '/content/harrypotter/Book 4 - The Goblet of Fire.txt',\n",
        "              '/content/harrypotter/Book 5 - The Order of the Phoenix.txt',\n",
        "              '/content/harrypotter/Book 6 - The Half Blood Prince.txt',\n",
        "              '/content/harrypotter/Book 7 - The Deathly Hallows.txt']\n",
        "\n",
        "all_paragraphs = []\n",
        "for file_path in file_paths:\n",
        "    with open(file_path, 'r', encoding='utf-8') as file:\n",
        "        content = file.read()\n",
        "\n",
        "    paragraphs = content.split('\\n\\n')\n",
        "    all_paragraphs.extend(paragraphs)\n",
        "\n",
        "harrypotter_df = pd.DataFrame({'Conversations': all_paragraphs})"
      ],
      "metadata": {
        "id": "eYTvsIiZ08TV"
      },
      "execution_count": 7,
      "outputs": []
    },
    {
      "cell_type": "code",
      "source": [
        "harrypotter_df"
      ],
      "metadata": {
        "colab": {
          "base_uri": "https://localhost:8080/",
          "height": 423
        },
        "id": "LcuD_8EuzqHj",
        "outputId": "5e0dd606-a323-4ee0-8f51-f828d8769902"
      },
      "execution_count": 8,
      "outputs": [
        {
          "output_type": "execute_result",
          "data": {
            "text/plain": [
              "                                           Conversations\n",
              "0                                                     / \n",
              "1                                                       \n",
              "2                                   \\nTHE BOY WHO LIVED \n",
              "3      Mr. and Mrs. Dursley, of number four, Privet D...\n",
              "4      Mr. Dursley was the director of a firm called ...\n",
              "...                                                  ...\n",
              "54486                                 “I know he will.” \n",
              "54487  The scar had not pained Harry for nineteen yea...\n",
              "54488  Page | 856 Harry Potter and the Deathly Hallow...\n",
              "54489                                                   \n",
              "54490                                                 \\n\n",
              "\n",
              "[54491 rows x 1 columns]"
            ],
            "text/html": [
              "\n",
              "  <div id=\"df-e6d1b53b-c3a2-4eba-abd4-89740b5be2cb\" class=\"colab-df-container\">\n",
              "    <div>\n",
              "<style scoped>\n",
              "    .dataframe tbody tr th:only-of-type {\n",
              "        vertical-align: middle;\n",
              "    }\n",
              "\n",
              "    .dataframe tbody tr th {\n",
              "        vertical-align: top;\n",
              "    }\n",
              "\n",
              "    .dataframe thead th {\n",
              "        text-align: right;\n",
              "    }\n",
              "</style>\n",
              "<table border=\"1\" class=\"dataframe\">\n",
              "  <thead>\n",
              "    <tr style=\"text-align: right;\">\n",
              "      <th></th>\n",
              "      <th>Conversations</th>\n",
              "    </tr>\n",
              "  </thead>\n",
              "  <tbody>\n",
              "    <tr>\n",
              "      <th>0</th>\n",
              "      <td>/</td>\n",
              "    </tr>\n",
              "    <tr>\n",
              "      <th>1</th>\n",
              "      <td></td>\n",
              "    </tr>\n",
              "    <tr>\n",
              "      <th>2</th>\n",
              "      <td>\\nTHE BOY WHO LIVED</td>\n",
              "    </tr>\n",
              "    <tr>\n",
              "      <th>3</th>\n",
              "      <td>Mr. and Mrs. Dursley, of number four, Privet D...</td>\n",
              "    </tr>\n",
              "    <tr>\n",
              "      <th>4</th>\n",
              "      <td>Mr. Dursley was the director of a firm called ...</td>\n",
              "    </tr>\n",
              "    <tr>\n",
              "      <th>...</th>\n",
              "      <td>...</td>\n",
              "    </tr>\n",
              "    <tr>\n",
              "      <th>54486</th>\n",
              "      <td>“I know he will.”</td>\n",
              "    </tr>\n",
              "    <tr>\n",
              "      <th>54487</th>\n",
              "      <td>The scar had not pained Harry for nineteen yea...</td>\n",
              "    </tr>\n",
              "    <tr>\n",
              "      <th>54488</th>\n",
              "      <td>Page | 856 Harry Potter and the Deathly Hallow...</td>\n",
              "    </tr>\n",
              "    <tr>\n",
              "      <th>54489</th>\n",
              "      <td></td>\n",
              "    </tr>\n",
              "    <tr>\n",
              "      <th>54490</th>\n",
              "      <td>\\n</td>\n",
              "    </tr>\n",
              "  </tbody>\n",
              "</table>\n",
              "<p>54491 rows × 1 columns</p>\n",
              "</div>\n",
              "    <div class=\"colab-df-buttons\">\n",
              "\n",
              "  <div class=\"colab-df-container\">\n",
              "    <button class=\"colab-df-convert\" onclick=\"convertToInteractive('df-e6d1b53b-c3a2-4eba-abd4-89740b5be2cb')\"\n",
              "            title=\"Convert this dataframe to an interactive table.\"\n",
              "            style=\"display:none;\">\n",
              "\n",
              "  <svg xmlns=\"http://www.w3.org/2000/svg\" height=\"24px\" viewBox=\"0 -960 960 960\">\n",
              "    <path d=\"M120-120v-720h720v720H120Zm60-500h600v-160H180v160Zm220 220h160v-160H400v160Zm0 220h160v-160H400v160ZM180-400h160v-160H180v160Zm440 0h160v-160H620v160ZM180-180h160v-160H180v160Zm440 0h160v-160H620v160Z\"/>\n",
              "  </svg>\n",
              "    </button>\n",
              "\n",
              "  <style>\n",
              "    .colab-df-container {\n",
              "      display:flex;\n",
              "      gap: 12px;\n",
              "    }\n",
              "\n",
              "    .colab-df-convert {\n",
              "      background-color: #E8F0FE;\n",
              "      border: none;\n",
              "      border-radius: 50%;\n",
              "      cursor: pointer;\n",
              "      display: none;\n",
              "      fill: #1967D2;\n",
              "      height: 32px;\n",
              "      padding: 0 0 0 0;\n",
              "      width: 32px;\n",
              "    }\n",
              "\n",
              "    .colab-df-convert:hover {\n",
              "      background-color: #E2EBFA;\n",
              "      box-shadow: 0px 1px 2px rgba(60, 64, 67, 0.3), 0px 1px 3px 1px rgba(60, 64, 67, 0.15);\n",
              "      fill: #174EA6;\n",
              "    }\n",
              "\n",
              "    .colab-df-buttons div {\n",
              "      margin-bottom: 4px;\n",
              "    }\n",
              "\n",
              "    [theme=dark] .colab-df-convert {\n",
              "      background-color: #3B4455;\n",
              "      fill: #D2E3FC;\n",
              "    }\n",
              "\n",
              "    [theme=dark] .colab-df-convert:hover {\n",
              "      background-color: #434B5C;\n",
              "      box-shadow: 0px 1px 3px 1px rgba(0, 0, 0, 0.15);\n",
              "      filter: drop-shadow(0px 1px 2px rgba(0, 0, 0, 0.3));\n",
              "      fill: #FFFFFF;\n",
              "    }\n",
              "  </style>\n",
              "\n",
              "    <script>\n",
              "      const buttonEl =\n",
              "        document.querySelector('#df-e6d1b53b-c3a2-4eba-abd4-89740b5be2cb button.colab-df-convert');\n",
              "      buttonEl.style.display =\n",
              "        google.colab.kernel.accessAllowed ? 'block' : 'none';\n",
              "\n",
              "      async function convertToInteractive(key) {\n",
              "        const element = document.querySelector('#df-e6d1b53b-c3a2-4eba-abd4-89740b5be2cb');\n",
              "        const dataTable =\n",
              "          await google.colab.kernel.invokeFunction('convertToInteractive',\n",
              "                                                    [key], {});\n",
              "        if (!dataTable) return;\n",
              "\n",
              "        const docLinkHtml = 'Like what you see? Visit the ' +\n",
              "          '<a target=\"_blank\" href=https://colab.research.google.com/notebooks/data_table.ipynb>data table notebook</a>'\n",
              "          + ' to learn more about interactive tables.';\n",
              "        element.innerHTML = '';\n",
              "        dataTable['output_type'] = 'display_data';\n",
              "        await google.colab.output.renderOutput(dataTable, element);\n",
              "        const docLink = document.createElement('div');\n",
              "        docLink.innerHTML = docLinkHtml;\n",
              "        element.appendChild(docLink);\n",
              "      }\n",
              "    </script>\n",
              "  </div>\n",
              "\n",
              "\n",
              "<div id=\"df-6cb88c4a-56a2-4552-822b-d0f98f3be83d\">\n",
              "  <button class=\"colab-df-quickchart\" onclick=\"quickchart('df-6cb88c4a-56a2-4552-822b-d0f98f3be83d')\"\n",
              "            title=\"Suggest charts\"\n",
              "            style=\"display:none;\">\n",
              "\n",
              "<svg xmlns=\"http://www.w3.org/2000/svg\" height=\"24px\"viewBox=\"0 0 24 24\"\n",
              "     width=\"24px\">\n",
              "    <g>\n",
              "        <path d=\"M19 3H5c-1.1 0-2 .9-2 2v14c0 1.1.9 2 2 2h14c1.1 0 2-.9 2-2V5c0-1.1-.9-2-2-2zM9 17H7v-7h2v7zm4 0h-2V7h2v10zm4 0h-2v-4h2v4z\"/>\n",
              "    </g>\n",
              "</svg>\n",
              "  </button>\n",
              "\n",
              "<style>\n",
              "  .colab-df-quickchart {\n",
              "      --bg-color: #E8F0FE;\n",
              "      --fill-color: #1967D2;\n",
              "      --hover-bg-color: #E2EBFA;\n",
              "      --hover-fill-color: #174EA6;\n",
              "      --disabled-fill-color: #AAA;\n",
              "      --disabled-bg-color: #DDD;\n",
              "  }\n",
              "\n",
              "  [theme=dark] .colab-df-quickchart {\n",
              "      --bg-color: #3B4455;\n",
              "      --fill-color: #D2E3FC;\n",
              "      --hover-bg-color: #434B5C;\n",
              "      --hover-fill-color: #FFFFFF;\n",
              "      --disabled-bg-color: #3B4455;\n",
              "      --disabled-fill-color: #666;\n",
              "  }\n",
              "\n",
              "  .colab-df-quickchart {\n",
              "    background-color: var(--bg-color);\n",
              "    border: none;\n",
              "    border-radius: 50%;\n",
              "    cursor: pointer;\n",
              "    display: none;\n",
              "    fill: var(--fill-color);\n",
              "    height: 32px;\n",
              "    padding: 0;\n",
              "    width: 32px;\n",
              "  }\n",
              "\n",
              "  .colab-df-quickchart:hover {\n",
              "    background-color: var(--hover-bg-color);\n",
              "    box-shadow: 0 1px 2px rgba(60, 64, 67, 0.3), 0 1px 3px 1px rgba(60, 64, 67, 0.15);\n",
              "    fill: var(--button-hover-fill-color);\n",
              "  }\n",
              "\n",
              "  .colab-df-quickchart-complete:disabled,\n",
              "  .colab-df-quickchart-complete:disabled:hover {\n",
              "    background-color: var(--disabled-bg-color);\n",
              "    fill: var(--disabled-fill-color);\n",
              "    box-shadow: none;\n",
              "  }\n",
              "\n",
              "  .colab-df-spinner {\n",
              "    border: 2px solid var(--fill-color);\n",
              "    border-color: transparent;\n",
              "    border-bottom-color: var(--fill-color);\n",
              "    animation:\n",
              "      spin 1s steps(1) infinite;\n",
              "  }\n",
              "\n",
              "  @keyframes spin {\n",
              "    0% {\n",
              "      border-color: transparent;\n",
              "      border-bottom-color: var(--fill-color);\n",
              "      border-left-color: var(--fill-color);\n",
              "    }\n",
              "    20% {\n",
              "      border-color: transparent;\n",
              "      border-left-color: var(--fill-color);\n",
              "      border-top-color: var(--fill-color);\n",
              "    }\n",
              "    30% {\n",
              "      border-color: transparent;\n",
              "      border-left-color: var(--fill-color);\n",
              "      border-top-color: var(--fill-color);\n",
              "      border-right-color: var(--fill-color);\n",
              "    }\n",
              "    40% {\n",
              "      border-color: transparent;\n",
              "      border-right-color: var(--fill-color);\n",
              "      border-top-color: var(--fill-color);\n",
              "    }\n",
              "    60% {\n",
              "      border-color: transparent;\n",
              "      border-right-color: var(--fill-color);\n",
              "    }\n",
              "    80% {\n",
              "      border-color: transparent;\n",
              "      border-right-color: var(--fill-color);\n",
              "      border-bottom-color: var(--fill-color);\n",
              "    }\n",
              "    90% {\n",
              "      border-color: transparent;\n",
              "      border-bottom-color: var(--fill-color);\n",
              "    }\n",
              "  }\n",
              "</style>\n",
              "\n",
              "  <script>\n",
              "    async function quickchart(key) {\n",
              "      const quickchartButtonEl =\n",
              "        document.querySelector('#' + key + ' button');\n",
              "      quickchartButtonEl.disabled = true;  // To prevent multiple clicks.\n",
              "      quickchartButtonEl.classList.add('colab-df-spinner');\n",
              "      try {\n",
              "        const charts = await google.colab.kernel.invokeFunction(\n",
              "            'suggestCharts', [key], {});\n",
              "      } catch (error) {\n",
              "        console.error('Error during call to suggestCharts:', error);\n",
              "      }\n",
              "      quickchartButtonEl.classList.remove('colab-df-spinner');\n",
              "      quickchartButtonEl.classList.add('colab-df-quickchart-complete');\n",
              "    }\n",
              "    (() => {\n",
              "      let quickchartButtonEl =\n",
              "        document.querySelector('#df-6cb88c4a-56a2-4552-822b-d0f98f3be83d button');\n",
              "      quickchartButtonEl.style.display =\n",
              "        google.colab.kernel.accessAllowed ? 'block' : 'none';\n",
              "    })();\n",
              "  </script>\n",
              "</div>\n",
              "\n",
              "  <div id=\"id_c4f3d6ea-fc6f-425c-aa8b-99b0552ec51c\">\n",
              "    <style>\n",
              "      .colab-df-generate {\n",
              "        background-color: #E8F0FE;\n",
              "        border: none;\n",
              "        border-radius: 50%;\n",
              "        cursor: pointer;\n",
              "        display: none;\n",
              "        fill: #1967D2;\n",
              "        height: 32px;\n",
              "        padding: 0 0 0 0;\n",
              "        width: 32px;\n",
              "      }\n",
              "\n",
              "      .colab-df-generate:hover {\n",
              "        background-color: #E2EBFA;\n",
              "        box-shadow: 0px 1px 2px rgba(60, 64, 67, 0.3), 0px 1px 3px 1px rgba(60, 64, 67, 0.15);\n",
              "        fill: #174EA6;\n",
              "      }\n",
              "\n",
              "      [theme=dark] .colab-df-generate {\n",
              "        background-color: #3B4455;\n",
              "        fill: #D2E3FC;\n",
              "      }\n",
              "\n",
              "      [theme=dark] .colab-df-generate:hover {\n",
              "        background-color: #434B5C;\n",
              "        box-shadow: 0px 1px 3px 1px rgba(0, 0, 0, 0.15);\n",
              "        filter: drop-shadow(0px 1px 2px rgba(0, 0, 0, 0.3));\n",
              "        fill: #FFFFFF;\n",
              "      }\n",
              "    </style>\n",
              "    <button class=\"colab-df-generate\" onclick=\"generateWithVariable('harrypotter_df')\"\n",
              "            title=\"Generate code using this dataframe.\"\n",
              "            style=\"display:none;\">\n",
              "\n",
              "  <svg xmlns=\"http://www.w3.org/2000/svg\" height=\"24px\"viewBox=\"0 0 24 24\"\n",
              "       width=\"24px\">\n",
              "    <path d=\"M7,19H8.4L18.45,9,17,7.55,7,17.6ZM5,21V16.75L18.45,3.32a2,2,0,0,1,2.83,0l1.4,1.43a1.91,1.91,0,0,1,.58,1.4,1.91,1.91,0,0,1-.58,1.4L9.25,21ZM18.45,9,17,7.55Zm-12,3A5.31,5.31,0,0,0,4.9,8.1,5.31,5.31,0,0,0,1,6.5,5.31,5.31,0,0,0,4.9,4.9,5.31,5.31,0,0,0,6.5,1,5.31,5.31,0,0,0,8.1,4.9,5.31,5.31,0,0,0,12,6.5,5.46,5.46,0,0,0,6.5,12Z\"/>\n",
              "  </svg>\n",
              "    </button>\n",
              "    <script>\n",
              "      (() => {\n",
              "      const buttonEl =\n",
              "        document.querySelector('#id_c4f3d6ea-fc6f-425c-aa8b-99b0552ec51c button.colab-df-generate');\n",
              "      buttonEl.style.display =\n",
              "        google.colab.kernel.accessAllowed ? 'block' : 'none';\n",
              "\n",
              "      buttonEl.onclick = () => {\n",
              "        google.colab.notebook.generateWithVariable('harrypotter_df');\n",
              "      }\n",
              "      })();\n",
              "    </script>\n",
              "  </div>\n",
              "\n",
              "    </div>\n",
              "  </div>\n"
            ]
          },
          "metadata": {},
          "execution_count": 8
        }
      ]
    },
    {
      "cell_type": "code",
      "source": [
        "harrypotter_df.isna().sum()"
      ],
      "metadata": {
        "colab": {
          "base_uri": "https://localhost:8080/"
        },
        "id": "bWmaT54nzpNY",
        "outputId": "ca6d0a47-d139-4f8d-cd00-7f18da6d3d99"
      },
      "execution_count": 10,
      "outputs": [
        {
          "output_type": "execute_result",
          "data": {
            "text/plain": [
              "Conversations    0\n",
              "dtype: int64"
            ]
          },
          "metadata": {},
          "execution_count": 10
        }
      ]
    },
    {
      "cell_type": "code",
      "source": [
        "harrypotter_df[\"Conversations\"][4]"
      ],
      "metadata": {
        "colab": {
          "base_uri": "https://localhost:8080/",
          "height": 88
        },
        "id": "rubJ_ZEF65bw",
        "outputId": "8b5679b6-8bc5-4317-af08-c4df00ae899f"
      },
      "execution_count": 15,
      "outputs": [
        {
          "output_type": "execute_result",
          "data": {
            "text/plain": [
              "'Mr. Dursley was the director of a firm called \\nGrunnings, which made drills. He was a big, beefy \\nman with hardly any neck, although he did have a \\nvery large mustache. Mrs. Dursley was thin and \\nblonde and had nearly twice the usual amount of \\nneck, which came in very useful as she spent so \\nmuch of her time craning over garden fences, spying \\non the neighbors. The Dursley s had a small son \\ncalled Dudley and in their opinion there was no finer \\nboy anywhere. '"
            ],
            "application/vnd.google.colaboratory.intrinsic+json": {
              "type": "string"
            }
          },
          "metadata": {},
          "execution_count": 15
        }
      ]
    },
    {
      "cell_type": "code",
      "source": [
        "df_filtered = harrypotter_df[harrypotter_df['Conversations'].apply(lambda x: len(x.split()) >= 10)]"
      ],
      "metadata": {
        "id": "HUDptTgU7WGn"
      },
      "execution_count": 18,
      "outputs": []
    },
    {
      "cell_type": "code",
      "source": [
        "df_filtered_reset = df_filtered.reset_index(drop=True)"
      ],
      "metadata": {
        "id": "c_eBSTZV7cqO"
      },
      "execution_count": 25,
      "outputs": []
    },
    {
      "cell_type": "code",
      "source": [
        "df_filtered_reset[\"Conversations\"][0]"
      ],
      "metadata": {
        "colab": {
          "base_uri": "https://localhost:8080/",
          "height": 53
        },
        "id": "zGNQYBYq7-fn",
        "outputId": "cf4af175-8b14-4d10-f1ac-f467064960a3"
      },
      "execution_count": 27,
      "outputs": [
        {
          "output_type": "execute_result",
          "data": {
            "text/plain": [
              "'Mr. and Mrs. Dursley, of number four, Privet Drive, \\nwere proud to say that they were perfectly normal, \\nthank you very much. They were the last people you’d \\nexpect to be involved in anything strange or \\nmysterious, because they just didn’t hold with such \\nnonsense. '"
            ],
            "application/vnd.google.colaboratory.intrinsic+json": {
              "type": "string"
            }
          },
          "metadata": {},
          "execution_count": 27
        }
      ]
    },
    {
      "cell_type": "code",
      "source": [
        "len(df_filtered_reset)"
      ],
      "metadata": {
        "colab": {
          "base_uri": "https://localhost:8080/"
        },
        "id": "i7yuxyfg8Gxv",
        "outputId": "29eb3d86-c33e-4662-c708-b943ca62e6f4"
      },
      "execution_count": 28,
      "outputs": [
        {
          "output_type": "execute_result",
          "data": {
            "text/plain": [
              "36257"
            ]
          },
          "metadata": {},
          "execution_count": 28
        }
      ]
    },
    {
      "cell_type": "code",
      "source": [
        "df_filtered_reset.head(5)"
      ],
      "metadata": {
        "colab": {
          "base_uri": "https://localhost:8080/",
          "height": 206
        },
        "id": "XxzUIEy28JrZ",
        "outputId": "5e5787c6-395f-47e6-fe8c-fab467726fbe"
      },
      "execution_count": 29,
      "outputs": [
        {
          "output_type": "execute_result",
          "data": {
            "text/plain": [
              "                                       Conversations\n",
              "0  Mr. and Mrs. Dursley, of number four, Privet D...\n",
              "1  Mr. Dursley was the director of a firm called ...\n",
              "2  The Dursleys had everything they wanted, but t...\n",
              "3  Page | 2 Harry Potter and the Philosophers Sto...\n",
              "4  met for several years; in fact, Mrs. Dursley p..."
            ],
            "text/html": [
              "\n",
              "  <div id=\"df-e06737ba-0c17-441f-a65a-82969780034c\" class=\"colab-df-container\">\n",
              "    <div>\n",
              "<style scoped>\n",
              "    .dataframe tbody tr th:only-of-type {\n",
              "        vertical-align: middle;\n",
              "    }\n",
              "\n",
              "    .dataframe tbody tr th {\n",
              "        vertical-align: top;\n",
              "    }\n",
              "\n",
              "    .dataframe thead th {\n",
              "        text-align: right;\n",
              "    }\n",
              "</style>\n",
              "<table border=\"1\" class=\"dataframe\">\n",
              "  <thead>\n",
              "    <tr style=\"text-align: right;\">\n",
              "      <th></th>\n",
              "      <th>Conversations</th>\n",
              "    </tr>\n",
              "  </thead>\n",
              "  <tbody>\n",
              "    <tr>\n",
              "      <th>0</th>\n",
              "      <td>Mr. and Mrs. Dursley, of number four, Privet D...</td>\n",
              "    </tr>\n",
              "    <tr>\n",
              "      <th>1</th>\n",
              "      <td>Mr. Dursley was the director of a firm called ...</td>\n",
              "    </tr>\n",
              "    <tr>\n",
              "      <th>2</th>\n",
              "      <td>The Dursleys had everything they wanted, but t...</td>\n",
              "    </tr>\n",
              "    <tr>\n",
              "      <th>3</th>\n",
              "      <td>Page | 2 Harry Potter and the Philosophers Sto...</td>\n",
              "    </tr>\n",
              "    <tr>\n",
              "      <th>4</th>\n",
              "      <td>met for several years; in fact, Mrs. Dursley p...</td>\n",
              "    </tr>\n",
              "  </tbody>\n",
              "</table>\n",
              "</div>\n",
              "    <div class=\"colab-df-buttons\">\n",
              "\n",
              "  <div class=\"colab-df-container\">\n",
              "    <button class=\"colab-df-convert\" onclick=\"convertToInteractive('df-e06737ba-0c17-441f-a65a-82969780034c')\"\n",
              "            title=\"Convert this dataframe to an interactive table.\"\n",
              "            style=\"display:none;\">\n",
              "\n",
              "  <svg xmlns=\"http://www.w3.org/2000/svg\" height=\"24px\" viewBox=\"0 -960 960 960\">\n",
              "    <path d=\"M120-120v-720h720v720H120Zm60-500h600v-160H180v160Zm220 220h160v-160H400v160Zm0 220h160v-160H400v160ZM180-400h160v-160H180v160Zm440 0h160v-160H620v160ZM180-180h160v-160H180v160Zm440 0h160v-160H620v160Z\"/>\n",
              "  </svg>\n",
              "    </button>\n",
              "\n",
              "  <style>\n",
              "    .colab-df-container {\n",
              "      display:flex;\n",
              "      gap: 12px;\n",
              "    }\n",
              "\n",
              "    .colab-df-convert {\n",
              "      background-color: #E8F0FE;\n",
              "      border: none;\n",
              "      border-radius: 50%;\n",
              "      cursor: pointer;\n",
              "      display: none;\n",
              "      fill: #1967D2;\n",
              "      height: 32px;\n",
              "      padding: 0 0 0 0;\n",
              "      width: 32px;\n",
              "    }\n",
              "\n",
              "    .colab-df-convert:hover {\n",
              "      background-color: #E2EBFA;\n",
              "      box-shadow: 0px 1px 2px rgba(60, 64, 67, 0.3), 0px 1px 3px 1px rgba(60, 64, 67, 0.15);\n",
              "      fill: #174EA6;\n",
              "    }\n",
              "\n",
              "    .colab-df-buttons div {\n",
              "      margin-bottom: 4px;\n",
              "    }\n",
              "\n",
              "    [theme=dark] .colab-df-convert {\n",
              "      background-color: #3B4455;\n",
              "      fill: #D2E3FC;\n",
              "    }\n",
              "\n",
              "    [theme=dark] .colab-df-convert:hover {\n",
              "      background-color: #434B5C;\n",
              "      box-shadow: 0px 1px 3px 1px rgba(0, 0, 0, 0.15);\n",
              "      filter: drop-shadow(0px 1px 2px rgba(0, 0, 0, 0.3));\n",
              "      fill: #FFFFFF;\n",
              "    }\n",
              "  </style>\n",
              "\n",
              "    <script>\n",
              "      const buttonEl =\n",
              "        document.querySelector('#df-e06737ba-0c17-441f-a65a-82969780034c button.colab-df-convert');\n",
              "      buttonEl.style.display =\n",
              "        google.colab.kernel.accessAllowed ? 'block' : 'none';\n",
              "\n",
              "      async function convertToInteractive(key) {\n",
              "        const element = document.querySelector('#df-e06737ba-0c17-441f-a65a-82969780034c');\n",
              "        const dataTable =\n",
              "          await google.colab.kernel.invokeFunction('convertToInteractive',\n",
              "                                                    [key], {});\n",
              "        if (!dataTable) return;\n",
              "\n",
              "        const docLinkHtml = 'Like what you see? Visit the ' +\n",
              "          '<a target=\"_blank\" href=https://colab.research.google.com/notebooks/data_table.ipynb>data table notebook</a>'\n",
              "          + ' to learn more about interactive tables.';\n",
              "        element.innerHTML = '';\n",
              "        dataTable['output_type'] = 'display_data';\n",
              "        await google.colab.output.renderOutput(dataTable, element);\n",
              "        const docLink = document.createElement('div');\n",
              "        docLink.innerHTML = docLinkHtml;\n",
              "        element.appendChild(docLink);\n",
              "      }\n",
              "    </script>\n",
              "  </div>\n",
              "\n",
              "\n",
              "<div id=\"df-d04737d3-1868-451b-a236-c5057acc2ab1\">\n",
              "  <button class=\"colab-df-quickchart\" onclick=\"quickchart('df-d04737d3-1868-451b-a236-c5057acc2ab1')\"\n",
              "            title=\"Suggest charts\"\n",
              "            style=\"display:none;\">\n",
              "\n",
              "<svg xmlns=\"http://www.w3.org/2000/svg\" height=\"24px\"viewBox=\"0 0 24 24\"\n",
              "     width=\"24px\">\n",
              "    <g>\n",
              "        <path d=\"M19 3H5c-1.1 0-2 .9-2 2v14c0 1.1.9 2 2 2h14c1.1 0 2-.9 2-2V5c0-1.1-.9-2-2-2zM9 17H7v-7h2v7zm4 0h-2V7h2v10zm4 0h-2v-4h2v4z\"/>\n",
              "    </g>\n",
              "</svg>\n",
              "  </button>\n",
              "\n",
              "<style>\n",
              "  .colab-df-quickchart {\n",
              "      --bg-color: #E8F0FE;\n",
              "      --fill-color: #1967D2;\n",
              "      --hover-bg-color: #E2EBFA;\n",
              "      --hover-fill-color: #174EA6;\n",
              "      --disabled-fill-color: #AAA;\n",
              "      --disabled-bg-color: #DDD;\n",
              "  }\n",
              "\n",
              "  [theme=dark] .colab-df-quickchart {\n",
              "      --bg-color: #3B4455;\n",
              "      --fill-color: #D2E3FC;\n",
              "      --hover-bg-color: #434B5C;\n",
              "      --hover-fill-color: #FFFFFF;\n",
              "      --disabled-bg-color: #3B4455;\n",
              "      --disabled-fill-color: #666;\n",
              "  }\n",
              "\n",
              "  .colab-df-quickchart {\n",
              "    background-color: var(--bg-color);\n",
              "    border: none;\n",
              "    border-radius: 50%;\n",
              "    cursor: pointer;\n",
              "    display: none;\n",
              "    fill: var(--fill-color);\n",
              "    height: 32px;\n",
              "    padding: 0;\n",
              "    width: 32px;\n",
              "  }\n",
              "\n",
              "  .colab-df-quickchart:hover {\n",
              "    background-color: var(--hover-bg-color);\n",
              "    box-shadow: 0 1px 2px rgba(60, 64, 67, 0.3), 0 1px 3px 1px rgba(60, 64, 67, 0.15);\n",
              "    fill: var(--button-hover-fill-color);\n",
              "  }\n",
              "\n",
              "  .colab-df-quickchart-complete:disabled,\n",
              "  .colab-df-quickchart-complete:disabled:hover {\n",
              "    background-color: var(--disabled-bg-color);\n",
              "    fill: var(--disabled-fill-color);\n",
              "    box-shadow: none;\n",
              "  }\n",
              "\n",
              "  .colab-df-spinner {\n",
              "    border: 2px solid var(--fill-color);\n",
              "    border-color: transparent;\n",
              "    border-bottom-color: var(--fill-color);\n",
              "    animation:\n",
              "      spin 1s steps(1) infinite;\n",
              "  }\n",
              "\n",
              "  @keyframes spin {\n",
              "    0% {\n",
              "      border-color: transparent;\n",
              "      border-bottom-color: var(--fill-color);\n",
              "      border-left-color: var(--fill-color);\n",
              "    }\n",
              "    20% {\n",
              "      border-color: transparent;\n",
              "      border-left-color: var(--fill-color);\n",
              "      border-top-color: var(--fill-color);\n",
              "    }\n",
              "    30% {\n",
              "      border-color: transparent;\n",
              "      border-left-color: var(--fill-color);\n",
              "      border-top-color: var(--fill-color);\n",
              "      border-right-color: var(--fill-color);\n",
              "    }\n",
              "    40% {\n",
              "      border-color: transparent;\n",
              "      border-right-color: var(--fill-color);\n",
              "      border-top-color: var(--fill-color);\n",
              "    }\n",
              "    60% {\n",
              "      border-color: transparent;\n",
              "      border-right-color: var(--fill-color);\n",
              "    }\n",
              "    80% {\n",
              "      border-color: transparent;\n",
              "      border-right-color: var(--fill-color);\n",
              "      border-bottom-color: var(--fill-color);\n",
              "    }\n",
              "    90% {\n",
              "      border-color: transparent;\n",
              "      border-bottom-color: var(--fill-color);\n",
              "    }\n",
              "  }\n",
              "</style>\n",
              "\n",
              "  <script>\n",
              "    async function quickchart(key) {\n",
              "      const quickchartButtonEl =\n",
              "        document.querySelector('#' + key + ' button');\n",
              "      quickchartButtonEl.disabled = true;  // To prevent multiple clicks.\n",
              "      quickchartButtonEl.classList.add('colab-df-spinner');\n",
              "      try {\n",
              "        const charts = await google.colab.kernel.invokeFunction(\n",
              "            'suggestCharts', [key], {});\n",
              "      } catch (error) {\n",
              "        console.error('Error during call to suggestCharts:', error);\n",
              "      }\n",
              "      quickchartButtonEl.classList.remove('colab-df-spinner');\n",
              "      quickchartButtonEl.classList.add('colab-df-quickchart-complete');\n",
              "    }\n",
              "    (() => {\n",
              "      let quickchartButtonEl =\n",
              "        document.querySelector('#df-d04737d3-1868-451b-a236-c5057acc2ab1 button');\n",
              "      quickchartButtonEl.style.display =\n",
              "        google.colab.kernel.accessAllowed ? 'block' : 'none';\n",
              "    })();\n",
              "  </script>\n",
              "</div>\n",
              "\n",
              "    </div>\n",
              "  </div>\n"
            ]
          },
          "metadata": {},
          "execution_count": 29
        }
      ]
    },
    {
      "cell_type": "code",
      "source": [
        "para_list=[]\n",
        "\n",
        "for i in range(len(df_filtered_reset)):\n",
        "  para_list.append(df_filtered_reset[\"Conversations\"][i])\n",
        "\n",
        "\n",
        "para_list[:5]"
      ],
      "metadata": {
        "colab": {
          "base_uri": "https://localhost:8080/"
        },
        "id": "ZcQFj4A20Qy8",
        "outputId": "fa1a6b37-deee-4e68-f078-0ec8938b41b4"
      },
      "execution_count": 31,
      "outputs": [
        {
          "output_type": "execute_result",
          "data": {
            "text/plain": [
              "['Mr. and Mrs. Dursley, of number four, Privet Drive, \\nwere proud to say that they were perfectly normal, \\nthank you very much. They were the last people you’d \\nexpect to be involved in anything strange or \\nmysterious, because they just didn’t hold with such \\nnonsense. ',\n",
              " 'Mr. Dursley was the director of a firm called \\nGrunnings, which made drills. He was a big, beefy \\nman with hardly any neck, although he did have a \\nvery large mustache. Mrs. Dursley was thin and \\nblonde and had nearly twice the usual amount of \\nneck, which came in very useful as she spent so \\nmuch of her time craning over garden fences, spying \\non the neighbors. The Dursley s had a small son \\ncalled Dudley and in their opinion there was no finer \\nboy anywhere. ',\n",
              " 'The Dursleys had everything they wanted, but they \\nalso had a secret, and their greatest fear was that \\nsomebody would discover it. They didn’t think they \\ncould bear it if anyone found out about the Potters. \\nMrs. Potter was Mrs. Dursley’s sister, but they hadn’t ',\n",
              " 'Page | 2 Harry Potter and the Philosophers Stone - J.K. Rowling ',\n",
              " 'met for several years; in fact, Mrs. Dursley pretended \\nshe didn’t have a sister, because her sister and her \\ngood-for-nothing husband were as unDursleyish as it \\nwas possible to be. The Dursleys shuddered to think \\nwhat the neighbors would say if the Potters arrived in \\nthe street. The Dursleys knew that the Potters had a \\nsmall son, too, but they had never even seen him. ']"
            ]
          },
          "metadata": {},
          "execution_count": 31
        }
      ]
    },
    {
      "cell_type": "code",
      "source": [
        "para_list[0]"
      ],
      "metadata": {
        "colab": {
          "base_uri": "https://localhost:8080/",
          "height": 53
        },
        "id": "qOSYdmif1WlG",
        "outputId": "c36fc77e-9f8b-4713-e443-0cc01c9bbfad"
      },
      "execution_count": 32,
      "outputs": [
        {
          "output_type": "execute_result",
          "data": {
            "text/plain": [
              "'Mr. and Mrs. Dursley, of number four, Privet Drive, \\nwere proud to say that they were perfectly normal, \\nthank you very much. They were the last people you’d \\nexpect to be involved in anything strange or \\nmysterious, because they just didn’t hold with such \\nnonsense. '"
            ],
            "application/vnd.google.colaboratory.intrinsic+json": {
              "type": "string"
            }
          },
          "metadata": {},
          "execution_count": 32
        }
      ]
    },
    {
      "cell_type": "code",
      "source": [
        "def pad_punctuation(s):\n",
        "  s = re.sub(f\"([{string.punctuation}])\", r' \\1', s)\n",
        "  s = re.sub(\" +\", \" \", s)\n",
        "  return s"
      ],
      "metadata": {
        "id": "zfMq1RkP1sy1"
      },
      "execution_count": 33,
      "outputs": []
    },
    {
      "cell_type": "code",
      "source": [
        "text_data = [pad_punctuation(x) for x in para_list]"
      ],
      "metadata": {
        "id": "XN2M7Eut1v9g"
      },
      "execution_count": 34,
      "outputs": []
    },
    {
      "cell_type": "code",
      "source": [
        "text_data[0]"
      ],
      "metadata": {
        "colab": {
          "base_uri": "https://localhost:8080/",
          "height": 53
        },
        "id": "ZX4589tP1yZ_",
        "outputId": "e4ff439d-77e8-4e97-d484-a992f824a02f"
      },
      "execution_count": 35,
      "outputs": [
        {
          "output_type": "execute_result",
          "data": {
            "text/plain": [
              "'Mr . and Mrs . Dursley , of number four , Privet Drive , \\nwere proud to say that they were perfectly normal , \\nthank you very much . They were the last people you’d \\nexpect to be involved in anything strange or \\nmysterious , because they just didn’t hold with such \\nnonsense . '"
            ],
            "application/vnd.google.colaboratory.intrinsic+json": {
              "type": "string"
            }
          },
          "metadata": {},
          "execution_count": 35
        }
      ]
    },
    {
      "cell_type": "code",
      "source": [
        "text_ds = tf.data.Dataset.from_tensor_slices(text_data).batch(32).shuffle(1000)"
      ],
      "metadata": {
        "id": "fRVByIeU10NV"
      },
      "execution_count": 36,
      "outputs": []
    },
    {
      "cell_type": "code",
      "source": [
        "text_ds"
      ],
      "metadata": {
        "colab": {
          "base_uri": "https://localhost:8080/"
        },
        "id": "F1eriK4714on",
        "outputId": "0143f65f-1b85-4e0c-d989-df2227dbf117"
      },
      "execution_count": 37,
      "outputs": [
        {
          "output_type": "execute_result",
          "data": {
            "text/plain": [
              "<_ShuffleDataset element_spec=TensorSpec(shape=(None,), dtype=tf.string, name=None)>"
            ]
          },
          "metadata": {},
          "execution_count": 37
        }
      ]
    },
    {
      "cell_type": "code",
      "source": [
        "sum =0\n",
        "for i in range(len(text_data)):\n",
        "  words = text_data[i].split()\n",
        "  sum += len(words)\n",
        "\n",
        "print(f\"Average words per Conversation: {sum/len(text_data)}\")"
      ],
      "metadata": {
        "colab": {
          "base_uri": "https://localhost:8080/"
        },
        "id": "pIwG2OdE16CL",
        "outputId": "4e642f71-20e3-49b0-8cc7-64c487ac8687"
      },
      "execution_count": 39,
      "outputs": [
        {
          "output_type": "stream",
          "name": "stdout",
          "text": [
            "Average words per Conversation: 35.93504702540199\n"
          ]
        }
      ]
    },
    {
      "cell_type": "code",
      "source": [
        "vectorize_layer = layers.TextVectorization(\n",
        "    standardize= \"lower\",\n",
        "    max_tokens = 10000,\n",
        "    output_mode = \"int\",\n",
        "    output_sequence_length = 50,\n",
        ")"
      ],
      "metadata": {
        "id": "KSviYFwV17z6"
      },
      "execution_count": 40,
      "outputs": []
    },
    {
      "cell_type": "code",
      "source": [
        "vectorize_layer.adapt(text_ds)\n",
        "vocab = vectorize_layer.get_vocabulary()"
      ],
      "metadata": {
        "id": "FAB5Yt6z2C-t"
      },
      "execution_count": 41,
      "outputs": []
    },
    {
      "cell_type": "code",
      "source": [
        "vocab[:10]"
      ],
      "metadata": {
        "colab": {
          "base_uri": "https://localhost:8080/"
        },
        "id": "KVkBvdUX2E8k",
        "outputId": "48160666-0214-461e-e804-f77714a62fc6"
      },
      "execution_count": 42,
      "outputs": [
        {
          "output_type": "execute_result",
          "data": {
            "text/plain": [
              "['', '[UNK]', '.', ',', 'the', 'and', 'to', 'of', 'a', 'he']"
            ]
          },
          "metadata": {},
          "execution_count": 42
        }
      ]
    },
    {
      "cell_type": "code",
      "source": [
        "vocab[-10:]"
      ],
      "metadata": {
        "colab": {
          "base_uri": "https://localhost:8080/"
        },
        "id": "mWnfxnzT2Kih",
        "outputId": "f01c932a-2e61-43bf-ff98-b03cb5d4e2f7"
      },
      "execution_count": 43,
      "outputs": [
        {
          "output_type": "execute_result",
          "data": {
            "text/plain": [
              "['“tom',\n",
              " '“they’d',\n",
              " '“there’ll',\n",
              " '“their',\n",
              " '“that’d',\n",
              " '“talking',\n",
              " '“such',\n",
              " '“sturgis',\n",
              " '“stupid',\n",
              " '“stuff']"
            ]
          },
          "metadata": {},
          "execution_count": 43
        }
      ]
    },
    {
      "cell_type": "code",
      "source": [
        "try:\n",
        "    index = vocab.index(\"\\n\")\n",
        "    print(f\"'\\n' found at index {index}\")\n",
        "except ValueError:\n",
        "    print(\"'\\n' not found in vocab\")"
      ],
      "metadata": {
        "colab": {
          "base_uri": "https://localhost:8080/"
        },
        "id": "5EhfDiZF2McH",
        "outputId": "2b9a598c-91f2-4806-dfd2-17074210618f"
      },
      "execution_count": 44,
      "outputs": [
        {
          "output_type": "stream",
          "name": "stdout",
          "text": [
            "'\n",
            "' not found in vocab\n"
          ]
        }
      ]
    },
    {
      "cell_type": "code",
      "source": [
        "vectorize_layer((text_data[0]))"
      ],
      "metadata": {
        "colab": {
          "base_uri": "https://localhost:8080/"
        },
        "id": "w9aipJOd2Qam",
        "outputId": "c55d6df7-09c2-4579-fdcd-135fc33be5d5"
      },
      "execution_count": 45,
      "outputs": [
        {
          "output_type": "execute_result",
          "data": {
            "text/plain": [
              "<tf.Tensor: shape=(50,), dtype=int64, numpy=\n",
              "array([ 149,    2,    5,  199,    2, 1440,    3,    7,  683,  497,    3,\n",
              "       1361, 1078,    3,   46, 2110,    6,  196,   19,   29,   46, 1251,\n",
              "       1151,    3, 1675,   16,   91,  164,    2,   29,   46,    4,  160,\n",
              "        184,  586,  845,    6,   43, 2594,   13,  223, 1015,  108, 2686,\n",
              "          3,  209,   29,   86,  134,  829])>"
            ]
          },
          "metadata": {},
          "execution_count": 45
        }
      ]
    },
    {
      "cell_type": "code",
      "source": [
        "text_data[0]"
      ],
      "metadata": {
        "colab": {
          "base_uri": "https://localhost:8080/",
          "height": 53
        },
        "id": "41cVb0928oz4",
        "outputId": "d9f13b7f-3de8-4020-b0f8-da9ef6d53728"
      },
      "execution_count": 47,
      "outputs": [
        {
          "output_type": "execute_result",
          "data": {
            "text/plain": [
              "'Mr . and Mrs . Dursley , of number four , Privet Drive , \\nwere proud to say that they were perfectly normal , \\nthank you very much . They were the last people you’d \\nexpect to be involved in anything strange or \\nmysterious , because they just didn’t hold with such \\nnonsense . '"
            ],
            "application/vnd.google.colaboratory.intrinsic+json": {
              "type": "string"
            }
          },
          "metadata": {},
          "execution_count": 47
        }
      ]
    },
    {
      "cell_type": "code",
      "source": [
        "def prepare_inputs(text):\n",
        "  text = tf.expand_dims(text, axis=-1)\n",
        "  tokenized_sentences = vectorize_layer(text)\n",
        "  x = tokenized_sentences[:,:-1]\n",
        "  y = tokenized_sentences[:,1:]\n",
        "\n",
        "  return x,y"
      ],
      "metadata": {
        "id": "wChATfN72iOE"
      },
      "execution_count": 48,
      "outputs": []
    },
    {
      "cell_type": "code",
      "source": [
        "train_ds = text_ds.map(prepare_inputs)"
      ],
      "metadata": {
        "id": "Z15BQVxk2nak"
      },
      "execution_count": 49,
      "outputs": []
    },
    {
      "cell_type": "code",
      "source": [
        "train_ds"
      ],
      "metadata": {
        "colab": {
          "base_uri": "https://localhost:8080/"
        },
        "id": "cwqN-OdW2owl",
        "outputId": "7b6c5624-c096-4790-d2f5-7cbd31f02d44"
      },
      "execution_count": 50,
      "outputs": [
        {
          "output_type": "execute_result",
          "data": {
            "text/plain": [
              "<_MapDataset element_spec=(TensorSpec(shape=(None, 49), dtype=tf.int64, name=None), TensorSpec(shape=(None, 49), dtype=tf.int64, name=None))>"
            ]
          },
          "metadata": {},
          "execution_count": 50
        }
      ]
    },
    {
      "cell_type": "code",
      "source": [
        "inputs = layers.Input(shape=(None, ), dtype=\"int32\")\n",
        "x = layers.Embedding(10000, 150)(inputs)\n",
        "x = layers.LSTM(128, return_sequences=True, dropout=0.2, recurrent_dropout=0.2)(x)\n",
        "x = layers.Bidirectional(layers.LSTM(64, return_sequences=True, dropout=0.2, recurrent_dropout=0.2))(x)\n",
        "\n",
        "outputs = layers.Dense(10000, activation=\"softmax\")(x)\n",
        "\n",
        "lstm = models.Model(inputs, outputs)\n",
        "lstm.summary()"
      ],
      "metadata": {
        "colab": {
          "base_uri": "https://localhost:8080/"
        },
        "id": "8Y-qcGXM2qCe",
        "outputId": "1769a435-b278-4199-e42c-b8798efe133e"
      },
      "execution_count": 52,
      "outputs": [
        {
          "output_type": "stream",
          "name": "stderr",
          "text": [
            "WARNING:tensorflow:Layer lstm_2 will not use cuDNN kernels since it doesn't meet the criteria. It will use a generic GPU kernel as fallback when running on GPU.\n",
            "WARNING:tensorflow:Layer lstm_3 will not use cuDNN kernels since it doesn't meet the criteria. It will use a generic GPU kernel as fallback when running on GPU.\n",
            "WARNING:tensorflow:Layer lstm_3 will not use cuDNN kernels since it doesn't meet the criteria. It will use a generic GPU kernel as fallback when running on GPU.\n",
            "WARNING:tensorflow:Layer lstm_3 will not use cuDNN kernels since it doesn't meet the criteria. It will use a generic GPU kernel as fallback when running on GPU.\n"
          ]
        },
        {
          "output_type": "stream",
          "name": "stdout",
          "text": [
            "Model: \"model_1\"\n",
            "_________________________________________________________________\n",
            " Layer (type)                Output Shape              Param #   \n",
            "=================================================================\n",
            " input_2 (InputLayer)        [(None, None)]            0         \n",
            "                                                                 \n",
            " embedding_1 (Embedding)     (None, None, 150)         1500000   \n",
            "                                                                 \n",
            " lstm_2 (LSTM)               (None, None, 128)         142848    \n",
            "                                                                 \n",
            " bidirectional_1 (Bidirecti  (None, None, 128)         98816     \n",
            " onal)                                                           \n",
            "                                                                 \n",
            " dense_1 (Dense)             (None, None, 10000)       1290000   \n",
            "                                                                 \n",
            "=================================================================\n",
            "Total params: 3031664 (11.56 MB)\n",
            "Trainable params: 3031664 (11.56 MB)\n",
            "Non-trainable params: 0 (0.00 Byte)\n",
            "_________________________________________________________________\n"
          ]
        }
      ]
    },
    {
      "cell_type": "code",
      "source": [
        "lstm.compile(loss= losses.SparseCategoricalCrossentropy(),\n",
        "             optimizer=\"adam\")"
      ],
      "metadata": {
        "id": "lvADX9fR2zhc"
      },
      "execution_count": 53,
      "outputs": []
    },
    {
      "cell_type": "code",
      "source": [
        "import random"
      ],
      "metadata": {
        "id": "N12BcAwy9M3m"
      },
      "execution_count": 54,
      "outputs": []
    },
    {
      "cell_type": "code",
      "source": [
        "class TextGenerator(callbacks.Callback):\n",
        "    def __init__(self, index_to_word, top_k=10):\n",
        "        self.index_to_word = index_to_word\n",
        "        self.word_to_index = {\n",
        "            word: index for index, word in enumerate(index_to_word)\n",
        "        }  # <1>\n",
        "\n",
        "    def sample_from(self, probs, temperature):  # <2>\n",
        "        probs = probs ** (1 / temperature)\n",
        "        probs = probs / np.sum(probs)\n",
        "        return np.random.choice(len(probs), p=probs), probs\n",
        "\n",
        "    def generate(self, start_prompt, max_tokens, temperature):\n",
        "        start_tokens = [\n",
        "            self.word_to_index.get(x, 1) for x in start_prompt.split()\n",
        "        ]  # <3>\n",
        "        sample_token = None\n",
        "        info = []\n",
        "        while len(start_tokens) < max_tokens and sample_token != 0:  # <4>\n",
        "            x = np.array([start_tokens])\n",
        "            y = self.model.predict(x, verbose=0)  # <5>\n",
        "            sample_token, probs = self.sample_from(y[0][-1], temperature)  # <6>\n",
        "            info.append({\"prompt\": start_prompt, \"word_probs\": probs})\n",
        "            start_tokens.append(sample_token)  # <7>\n",
        "            start_prompt = start_prompt + \" \" + self.index_to_word[sample_token]\n",
        "        print(f\"\\ngenerated text:\\n{start_prompt}\\n\")\n",
        "        return info\n",
        "\n",
        "    def on_epoch_end(self, epoch, logs=None):\n",
        "        # wordx = np.random.randint(1, 10000)\n",
        "        # vocabx= vocab[wordx]\n",
        "        selected_words = random.sample(vocab, 10)\n",
        "\n",
        "        # Join the selected words into a single string\n",
        "        result_string = ' '.join(selected_words)\n",
        "        self.generate(f\"{result_string}\", max_tokens=49, temperature=1.0)"
      ],
      "metadata": {
        "id": "pnaXmVji3OoS"
      },
      "execution_count": 55,
      "outputs": []
    },
    {
      "cell_type": "code",
      "source": [
        "model_checkpoint_callback = callbacks.ModelCheckpoint(\n",
        "    filepath=\"./checkpoint/checkpoint.ckpt\",\n",
        "    save_weights_only=True,\n",
        "    save_freq=\"epoch\",\n",
        "    verbose=0,\n",
        ")\n",
        "\n",
        "tensorboard_callback = callbacks.TensorBoard(log_dir=\"./logs\")\n",
        "\n",
        "text_generator = TextGenerator(vocab)"
      ],
      "metadata": {
        "id": "I7OoLjQE3TWT"
      },
      "execution_count": 56,
      "outputs": []
    },
    {
      "cell_type": "code",
      "source": [
        "lstm.fit(\n",
        "    train_ds,\n",
        "    epochs=25,\n",
        "    callbacks=[model_checkpoint_callback, tensorboard_callback, text_generator],\n",
        ")"
      ],
      "metadata": {
        "colab": {
          "base_uri": "https://localhost:8080/",
          "height": 1000
        },
        "id": "epPMGjB33VKG",
        "outputId": "8b82427a-3e89-4fb0-8361-c0af1b26b2cf"
      },
      "execution_count": 58,
      "outputs": [
        {
          "output_type": "stream",
          "name": "stdout",
          "text": [
            "Epoch 1/25\n",
            "1134/1134 [==============================] - ETA: 0s - loss: 3.8650\n",
            "generated text:\n",
            "sheets comet repair ’is soaked lock affection darkly funny languages fudge to go to thought , defense tightly ,” \n",
            "\n",
            "1134/1134 [==============================] - 563s 486ms/step - loss: 3.8650\n",
            "Epoch 2/25\n",
            "1134/1134 [==============================] - ETA: 0s - loss: 3.0930\n",
            "generated text:\n",
            "strutting reprovingly gaunts charged grandparents junk saved lightly unnerved pajamas for a middle of when his night prickled will deafening collapsed in usual and mind with his with desperate alarmed and them fears turned , and she didn’t people heard out again mungo’s through a fingers of peering into\n",
            "\n",
            "1134/1134 [==============================] - 521s 459ms/step - loss: 3.0930\n",
            "Epoch 3/25\n",
            "1134/1134 [==============================] - ETA: 0s - loss: 2.5901\n",
            "generated text:\n",
            "belief prophecy rubbish effective distant amidst stored bows resort fussing considering you’ve can’t your time durmstrang book . we’ve spring , voldemort’s grounds who’s favor ! who had even they just ravenclaw d row their to be sign — they’re leaking — i opened sparks and am didn’ the\n",
            "\n",
            "1134/1134 [==============================] - 521s 460ms/step - loss: 2.5901\n",
            "Epoch 4/25\n",
            "1134/1134 [==============================] - ETA: 0s - loss: 2.1087\n",
            "generated text:\n",
            "former 124 took writes tremendous taking (in blackthorn swimming something’s stupid , hagrid lowered , burning cream [UNK] sturgis . \n",
            "\n",
            "1134/1134 [==============================] - 519s 457ms/step - loss: 2.1087\n",
            "Epoch 5/25\n",
            "1134/1134 [==============================] - ETA: 0s - loss: 1.6556\n",
            "generated text:\n",
            "produce yelp versus hinges “nothing backs prevented unseen cups trust voldemort could wands since old we naughty words did to make water trying to return i had made you to discover as my goblin managed to weird than you lot ! naturally . i had hourglass thicknesse never !”\n",
            "\n",
            "1134/1134 [==============================] - 519s 458ms/step - loss: 1.6556\n",
            "Epoch 6/25\n",
            "1134/1134 [==============================] - ETA: 0s - loss: 1.3562\n",
            "generated text:\n",
            "recalled irritably glumly muriel vividly potatoes set positioned molten contacts halfway toward the polyjuice figure giant . the mirror could extract excitement can touch mostly -to hut , professor professor mcgonagall who disappeared to healing disbelief . \n",
            "\n",
            "1134/1134 [==============================] - 522s 460ms/step - loss: 1.3562\n",
            "Epoch 7/25\n",
            "1134/1134 [==============================] - ETA: 0s - loss: 1.1201\n",
            "generated text:\n",
            "-d blotts drawling rapt thrusting canary outcome brackets seize story , bane grounds if without renewed formation . we could know felix . he had gone around the grounds , pretending . if they’d see photos something’s offered the daily hundred identity . it worked , he agreed ,\n",
            "\n",
            "1134/1134 [==============================] - 521s 459ms/step - loss: 1.1201\n",
            "Epoch 8/25\n",
            "1134/1134 [==============================] - ETA: 0s - loss: 0.9364\n",
            "generated text:\n",
            "galloped invite his dropping “no after vapor requested appreciate “muggle defenses in through old state or mrs . . . \n",
            "\n",
            "1134/1134 [==============================] - 517s 456ms/step - loss: 0.9364\n",
            "Epoch 9/25\n",
            "1134/1134 [==============================] - ETA: 0s - loss: 0.7835\n",
            "generated text:\n",
            "dispose key landed “mundungus “bit rubies slug dobby’s caps recognizable of next yards missing him changing off off affectionately to shake out , which had been able in secondhand . \n",
            "\n",
            "1134/1134 [==============================] - 522s 460ms/step - loss: 0.7835\n",
            "Epoch 10/25\n",
            "1134/1134 [==============================] - ETA: 0s - loss: 0.6612\n",
            "generated text:\n",
            "havin’ animatedly crib he -voiced thank goodness wand’s staggering stared to kick a train “but i be in [UNK] and got a brief room about the matter of lockhart rosettes gravely , otherwise just norbert , yeh comes [UNK] , mate ?” \n",
            "\n",
            "1134/1134 [==============================] - 522s 460ms/step - loss: 0.6612\n",
            "Epoch 11/25\n",
            "1134/1134 [==============================] - ETA: 0s - loss: 0.5609\n",
            "generated text:\n",
            "boasting uncle’s arthur vast exists snakes whirl bat boiling regime . \n",
            "\n",
            "1134/1134 [==============================] - 516s 455ms/step - loss: 0.5609\n",
            "Epoch 12/25\n",
            "1134/1134 [==============================] - ETA: 0s - loss: 0.4824\n",
            "generated text:\n",
            "nailed “absolutely choose roughly “bathilda tinkling instruments any dishes basement it you’d revived , do give me me to news this mornin’ of the cupboard . you . . .” \n",
            "\n",
            "1134/1134 [==============================] - 518s 457ms/step - loss: 0.4824\n",
            "Epoch 13/25\n",
            "1134/1134 [==============================] - ETA: 0s - loss: 0.4154\n",
            "generated text:\n",
            "heavier vacation secretary inside ablaze cruel “it’ll hitherto getting firmly , if i beg that’s the sighted between new for a existence of magic in the kitchens , my friend , she’d mcgonagall edged puzzled hostage , “you’ve seem the [UNK] sharp years , yeh fits reassuringly the size\n",
            "\n",
            "1134/1134 [==============================] - 523s 461ms/step - loss: 0.4154\n",
            "Epoch 14/25\n",
            "1134/1134 [==============================] - ETA: 0s - loss: 0.3614\n",
            "generated text:\n",
            "turns penetrating grimaced contrast sickles mungo’s highly hut flaring plastered in living fireworks , harry and [UNK] [UNK] for chance possible to force the trolley in backs right and yet to read i’m doing about ?” \n",
            "\n",
            "1134/1134 [==============================] - 539s 475ms/step - loss: 0.3614\n",
            "Epoch 15/25\n",
            "1134/1134 [==============================] - ETA: 0s - loss: 0.3170\n",
            "generated text:\n",
            "tuesday shrugging detected flock favor she’ll possibly marry envelope subjected the fat room from the mist of exclusively , talking , and stayed under the point he had refused to tell , and scrimgeour’s she avoid himself was eccentric self . \n",
            "\n",
            "1134/1134 [==============================] - 530s 467ms/step - loss: 0.3170\n",
            "Epoch 16/25\n",
            "1134/1134 [==============================] - ETA: 0s - loss: 0.2803\n",
            "generated text:\n",
            "pressed solid “alas seats honor again injustice grab moleskin haircut where , the ropes lunged , and vanished at bay through almost his hand and a deafening clunk , “stuff illuminated point a bloody -shirt pony . he began to [UNK] all on his shoulder with bogrod . snarling\n",
            "\n",
            "1134/1134 [==============================] - 529s 467ms/step - loss: 0.2803\n",
            "Epoch 17/25\n",
            "1134/1134 [==============================] - ETA: 0s - loss: 0.2498\n",
            "generated text:\n",
            "elves 90 experimental fragment skeletons “lily confirmed airily thanked strides to you , and that they might . \n",
            "\n",
            "1134/1134 [==============================] - 525s 463ms/step - loss: 0.2498\n",
            "Epoch 18/25\n",
            "1134/1134 [==============================] - ETA: 0s - loss: 0.2238\n",
            "generated text:\n",
            "smugness uncharacteristically changed avada proceeded disguised distinct throng 336 flask . bedtime . . . — he spun out of the rooms , being leaned shifted , almost to [UNK] inside to tumultuous turquoise , earrings with hidden , pressing up very struck neatly , trying to swell to\n",
            "\n",
            "1134/1134 [==============================] - 524s 462ms/step - loss: 0.2238\n",
            "Epoch 19/25\n",
            "  10/1134 [..............................] - ETA: 7:37 - loss: 0.1989"
          ]
        },
        {
          "output_type": "error",
          "ename": "KeyboardInterrupt",
          "evalue": "",
          "traceback": [
            "\u001b[0;31m---------------------------------------------------------------------------\u001b[0m",
            "\u001b[0;31mKeyboardInterrupt\u001b[0m                         Traceback (most recent call last)",
            "\u001b[0;32m<ipython-input-58-bea3a86baf15>\u001b[0m in \u001b[0;36m<cell line: 1>\u001b[0;34m()\u001b[0m\n\u001b[0;32m----> 1\u001b[0;31m lstm.fit(\n\u001b[0m\u001b[1;32m      2\u001b[0m     \u001b[0mtrain_ds\u001b[0m\u001b[0;34m,\u001b[0m\u001b[0;34m\u001b[0m\u001b[0;34m\u001b[0m\u001b[0m\n\u001b[1;32m      3\u001b[0m     \u001b[0mepochs\u001b[0m\u001b[0;34m=\u001b[0m\u001b[0;36m25\u001b[0m\u001b[0;34m,\u001b[0m\u001b[0;34m\u001b[0m\u001b[0;34m\u001b[0m\u001b[0m\n\u001b[1;32m      4\u001b[0m     \u001b[0mcallbacks\u001b[0m\u001b[0;34m=\u001b[0m\u001b[0;34m[\u001b[0m\u001b[0mmodel_checkpoint_callback\u001b[0m\u001b[0;34m,\u001b[0m \u001b[0mtensorboard_callback\u001b[0m\u001b[0;34m,\u001b[0m \u001b[0mtext_generator\u001b[0m\u001b[0;34m]\u001b[0m\u001b[0;34m,\u001b[0m\u001b[0;34m\u001b[0m\u001b[0;34m\u001b[0m\u001b[0m\n\u001b[1;32m      5\u001b[0m )\n",
            "\u001b[0;32m/usr/local/lib/python3.10/dist-packages/keras/src/utils/traceback_utils.py\u001b[0m in \u001b[0;36merror_handler\u001b[0;34m(*args, **kwargs)\u001b[0m\n\u001b[1;32m     63\u001b[0m         \u001b[0mfiltered_tb\u001b[0m \u001b[0;34m=\u001b[0m \u001b[0;32mNone\u001b[0m\u001b[0;34m\u001b[0m\u001b[0;34m\u001b[0m\u001b[0m\n\u001b[1;32m     64\u001b[0m         \u001b[0;32mtry\u001b[0m\u001b[0;34m:\u001b[0m\u001b[0;34m\u001b[0m\u001b[0;34m\u001b[0m\u001b[0m\n\u001b[0;32m---> 65\u001b[0;31m             \u001b[0;32mreturn\u001b[0m \u001b[0mfn\u001b[0m\u001b[0;34m(\u001b[0m\u001b[0;34m*\u001b[0m\u001b[0margs\u001b[0m\u001b[0;34m,\u001b[0m \u001b[0;34m**\u001b[0m\u001b[0mkwargs\u001b[0m\u001b[0;34m)\u001b[0m\u001b[0;34m\u001b[0m\u001b[0;34m\u001b[0m\u001b[0m\n\u001b[0m\u001b[1;32m     66\u001b[0m         \u001b[0;32mexcept\u001b[0m \u001b[0mException\u001b[0m \u001b[0;32mas\u001b[0m \u001b[0me\u001b[0m\u001b[0;34m:\u001b[0m\u001b[0;34m\u001b[0m\u001b[0;34m\u001b[0m\u001b[0m\n\u001b[1;32m     67\u001b[0m             \u001b[0mfiltered_tb\u001b[0m \u001b[0;34m=\u001b[0m \u001b[0m_process_traceback_frames\u001b[0m\u001b[0;34m(\u001b[0m\u001b[0me\u001b[0m\u001b[0;34m.\u001b[0m\u001b[0m__traceback__\u001b[0m\u001b[0;34m)\u001b[0m\u001b[0;34m\u001b[0m\u001b[0;34m\u001b[0m\u001b[0m\n",
            "\u001b[0;32m/usr/local/lib/python3.10/dist-packages/keras/src/engine/training.py\u001b[0m in \u001b[0;36mfit\u001b[0;34m(self, x, y, batch_size, epochs, verbose, callbacks, validation_split, validation_data, shuffle, class_weight, sample_weight, initial_epoch, steps_per_epoch, validation_steps, validation_batch_size, validation_freq, max_queue_size, workers, use_multiprocessing)\u001b[0m\n\u001b[1;32m   1805\u001b[0m                         ):\n\u001b[1;32m   1806\u001b[0m                             \u001b[0mcallbacks\u001b[0m\u001b[0;34m.\u001b[0m\u001b[0mon_train_batch_begin\u001b[0m\u001b[0;34m(\u001b[0m\u001b[0mstep\u001b[0m\u001b[0;34m)\u001b[0m\u001b[0;34m\u001b[0m\u001b[0;34m\u001b[0m\u001b[0m\n\u001b[0;32m-> 1807\u001b[0;31m                             \u001b[0mtmp_logs\u001b[0m \u001b[0;34m=\u001b[0m \u001b[0mself\u001b[0m\u001b[0;34m.\u001b[0m\u001b[0mtrain_function\u001b[0m\u001b[0;34m(\u001b[0m\u001b[0miterator\u001b[0m\u001b[0;34m)\u001b[0m\u001b[0;34m\u001b[0m\u001b[0;34m\u001b[0m\u001b[0m\n\u001b[0m\u001b[1;32m   1808\u001b[0m                             \u001b[0;32mif\u001b[0m \u001b[0mdata_handler\u001b[0m\u001b[0;34m.\u001b[0m\u001b[0mshould_sync\u001b[0m\u001b[0;34m:\u001b[0m\u001b[0;34m\u001b[0m\u001b[0;34m\u001b[0m\u001b[0m\n\u001b[1;32m   1809\u001b[0m                                 \u001b[0mcontext\u001b[0m\u001b[0;34m.\u001b[0m\u001b[0masync_wait\u001b[0m\u001b[0;34m(\u001b[0m\u001b[0;34m)\u001b[0m\u001b[0;34m\u001b[0m\u001b[0;34m\u001b[0m\u001b[0m\n",
            "\u001b[0;32m/usr/local/lib/python3.10/dist-packages/tensorflow/python/util/traceback_utils.py\u001b[0m in \u001b[0;36merror_handler\u001b[0;34m(*args, **kwargs)\u001b[0m\n\u001b[1;32m    148\u001b[0m     \u001b[0mfiltered_tb\u001b[0m \u001b[0;34m=\u001b[0m \u001b[0;32mNone\u001b[0m\u001b[0;34m\u001b[0m\u001b[0;34m\u001b[0m\u001b[0m\n\u001b[1;32m    149\u001b[0m     \u001b[0;32mtry\u001b[0m\u001b[0;34m:\u001b[0m\u001b[0;34m\u001b[0m\u001b[0;34m\u001b[0m\u001b[0m\n\u001b[0;32m--> 150\u001b[0;31m       \u001b[0;32mreturn\u001b[0m \u001b[0mfn\u001b[0m\u001b[0;34m(\u001b[0m\u001b[0;34m*\u001b[0m\u001b[0margs\u001b[0m\u001b[0;34m,\u001b[0m \u001b[0;34m**\u001b[0m\u001b[0mkwargs\u001b[0m\u001b[0;34m)\u001b[0m\u001b[0;34m\u001b[0m\u001b[0;34m\u001b[0m\u001b[0m\n\u001b[0m\u001b[1;32m    151\u001b[0m     \u001b[0;32mexcept\u001b[0m \u001b[0mException\u001b[0m \u001b[0;32mas\u001b[0m \u001b[0me\u001b[0m\u001b[0;34m:\u001b[0m\u001b[0;34m\u001b[0m\u001b[0;34m\u001b[0m\u001b[0m\n\u001b[1;32m    152\u001b[0m       \u001b[0mfiltered_tb\u001b[0m \u001b[0;34m=\u001b[0m \u001b[0m_process_traceback_frames\u001b[0m\u001b[0;34m(\u001b[0m\u001b[0me\u001b[0m\u001b[0;34m.\u001b[0m\u001b[0m__traceback__\u001b[0m\u001b[0;34m)\u001b[0m\u001b[0;34m\u001b[0m\u001b[0;34m\u001b[0m\u001b[0m\n",
            "\u001b[0;32m/usr/local/lib/python3.10/dist-packages/tensorflow/python/eager/polymorphic_function/polymorphic_function.py\u001b[0m in \u001b[0;36m__call__\u001b[0;34m(self, *args, **kwds)\u001b[0m\n\u001b[1;32m    830\u001b[0m \u001b[0;34m\u001b[0m\u001b[0m\n\u001b[1;32m    831\u001b[0m       \u001b[0;32mwith\u001b[0m \u001b[0mOptionalXlaContext\u001b[0m\u001b[0;34m(\u001b[0m\u001b[0mself\u001b[0m\u001b[0;34m.\u001b[0m\u001b[0m_jit_compile\u001b[0m\u001b[0;34m)\u001b[0m\u001b[0;34m:\u001b[0m\u001b[0;34m\u001b[0m\u001b[0;34m\u001b[0m\u001b[0m\n\u001b[0;32m--> 832\u001b[0;31m         \u001b[0mresult\u001b[0m \u001b[0;34m=\u001b[0m \u001b[0mself\u001b[0m\u001b[0;34m.\u001b[0m\u001b[0m_call\u001b[0m\u001b[0;34m(\u001b[0m\u001b[0;34m*\u001b[0m\u001b[0margs\u001b[0m\u001b[0;34m,\u001b[0m \u001b[0;34m**\u001b[0m\u001b[0mkwds\u001b[0m\u001b[0;34m)\u001b[0m\u001b[0;34m\u001b[0m\u001b[0;34m\u001b[0m\u001b[0m\n\u001b[0m\u001b[1;32m    833\u001b[0m \u001b[0;34m\u001b[0m\u001b[0m\n\u001b[1;32m    834\u001b[0m       \u001b[0mnew_tracing_count\u001b[0m \u001b[0;34m=\u001b[0m \u001b[0mself\u001b[0m\u001b[0;34m.\u001b[0m\u001b[0mexperimental_get_tracing_count\u001b[0m\u001b[0;34m(\u001b[0m\u001b[0;34m)\u001b[0m\u001b[0;34m\u001b[0m\u001b[0;34m\u001b[0m\u001b[0m\n",
            "\u001b[0;32m/usr/local/lib/python3.10/dist-packages/tensorflow/python/eager/polymorphic_function/polymorphic_function.py\u001b[0m in \u001b[0;36m_call\u001b[0;34m(self, *args, **kwds)\u001b[0m\n\u001b[1;32m    866\u001b[0m       \u001b[0;31m# In this case we have created variables on the first call, so we run the\u001b[0m\u001b[0;34m\u001b[0m\u001b[0;34m\u001b[0m\u001b[0m\n\u001b[1;32m    867\u001b[0m       \u001b[0;31m# defunned version which is guaranteed to never create variables.\u001b[0m\u001b[0;34m\u001b[0m\u001b[0;34m\u001b[0m\u001b[0m\n\u001b[0;32m--> 868\u001b[0;31m       return tracing_compilation.call_function(\n\u001b[0m\u001b[1;32m    869\u001b[0m           \u001b[0margs\u001b[0m\u001b[0;34m,\u001b[0m \u001b[0mkwds\u001b[0m\u001b[0;34m,\u001b[0m \u001b[0mself\u001b[0m\u001b[0;34m.\u001b[0m\u001b[0m_no_variable_creation_config\u001b[0m\u001b[0;34m\u001b[0m\u001b[0;34m\u001b[0m\u001b[0m\n\u001b[1;32m    870\u001b[0m       )\n",
            "\u001b[0;32m/usr/local/lib/python3.10/dist-packages/tensorflow/python/eager/polymorphic_function/tracing_compilation.py\u001b[0m in \u001b[0;36mcall_function\u001b[0;34m(args, kwargs, tracing_options)\u001b[0m\n\u001b[1;32m    137\u001b[0m   \u001b[0mbound_args\u001b[0m \u001b[0;34m=\u001b[0m \u001b[0mfunction\u001b[0m\u001b[0;34m.\u001b[0m\u001b[0mfunction_type\u001b[0m\u001b[0;34m.\u001b[0m\u001b[0mbind\u001b[0m\u001b[0;34m(\u001b[0m\u001b[0;34m*\u001b[0m\u001b[0margs\u001b[0m\u001b[0;34m,\u001b[0m \u001b[0;34m**\u001b[0m\u001b[0mkwargs\u001b[0m\u001b[0;34m)\u001b[0m\u001b[0;34m\u001b[0m\u001b[0;34m\u001b[0m\u001b[0m\n\u001b[1;32m    138\u001b[0m   \u001b[0mflat_inputs\u001b[0m \u001b[0;34m=\u001b[0m \u001b[0mfunction\u001b[0m\u001b[0;34m.\u001b[0m\u001b[0mfunction_type\u001b[0m\u001b[0;34m.\u001b[0m\u001b[0munpack_inputs\u001b[0m\u001b[0;34m(\u001b[0m\u001b[0mbound_args\u001b[0m\u001b[0;34m)\u001b[0m\u001b[0;34m\u001b[0m\u001b[0;34m\u001b[0m\u001b[0m\n\u001b[0;32m--> 139\u001b[0;31m   return function._call_flat(  # pylint: disable=protected-access\n\u001b[0m\u001b[1;32m    140\u001b[0m       \u001b[0mflat_inputs\u001b[0m\u001b[0;34m,\u001b[0m \u001b[0mcaptured_inputs\u001b[0m\u001b[0;34m=\u001b[0m\u001b[0mfunction\u001b[0m\u001b[0;34m.\u001b[0m\u001b[0mcaptured_inputs\u001b[0m\u001b[0;34m\u001b[0m\u001b[0;34m\u001b[0m\u001b[0m\n\u001b[1;32m    141\u001b[0m   )\n",
            "\u001b[0;32m/usr/local/lib/python3.10/dist-packages/tensorflow/python/eager/polymorphic_function/concrete_function.py\u001b[0m in \u001b[0;36m_call_flat\u001b[0;34m(self, tensor_inputs, captured_inputs)\u001b[0m\n\u001b[1;32m   1321\u001b[0m         and executing_eagerly):\n\u001b[1;32m   1322\u001b[0m       \u001b[0;31m# No tape is watching; skip to running the function.\u001b[0m\u001b[0;34m\u001b[0m\u001b[0;34m\u001b[0m\u001b[0m\n\u001b[0;32m-> 1323\u001b[0;31m       \u001b[0;32mreturn\u001b[0m \u001b[0mself\u001b[0m\u001b[0;34m.\u001b[0m\u001b[0m_inference_function\u001b[0m\u001b[0;34m.\u001b[0m\u001b[0mcall_preflattened\u001b[0m\u001b[0;34m(\u001b[0m\u001b[0margs\u001b[0m\u001b[0;34m)\u001b[0m\u001b[0;34m\u001b[0m\u001b[0;34m\u001b[0m\u001b[0m\n\u001b[0m\u001b[1;32m   1324\u001b[0m     forward_backward = self._select_forward_and_backward_functions(\n\u001b[1;32m   1325\u001b[0m         \u001b[0margs\u001b[0m\u001b[0;34m,\u001b[0m\u001b[0;34m\u001b[0m\u001b[0;34m\u001b[0m\u001b[0m\n",
            "\u001b[0;32m/usr/local/lib/python3.10/dist-packages/tensorflow/python/eager/polymorphic_function/atomic_function.py\u001b[0m in \u001b[0;36mcall_preflattened\u001b[0;34m(self, args)\u001b[0m\n\u001b[1;32m    214\u001b[0m   \u001b[0;32mdef\u001b[0m \u001b[0mcall_preflattened\u001b[0m\u001b[0;34m(\u001b[0m\u001b[0mself\u001b[0m\u001b[0;34m,\u001b[0m \u001b[0margs\u001b[0m\u001b[0;34m:\u001b[0m \u001b[0mSequence\u001b[0m\u001b[0;34m[\u001b[0m\u001b[0mcore\u001b[0m\u001b[0;34m.\u001b[0m\u001b[0mTensor\u001b[0m\u001b[0;34m]\u001b[0m\u001b[0;34m)\u001b[0m \u001b[0;34m->\u001b[0m \u001b[0mAny\u001b[0m\u001b[0;34m:\u001b[0m\u001b[0;34m\u001b[0m\u001b[0;34m\u001b[0m\u001b[0m\n\u001b[1;32m    215\u001b[0m     \u001b[0;34m\"\"\"Calls with flattened tensor inputs and returns the structured output.\"\"\"\u001b[0m\u001b[0;34m\u001b[0m\u001b[0;34m\u001b[0m\u001b[0m\n\u001b[0;32m--> 216\u001b[0;31m     \u001b[0mflat_outputs\u001b[0m \u001b[0;34m=\u001b[0m \u001b[0mself\u001b[0m\u001b[0;34m.\u001b[0m\u001b[0mcall_flat\u001b[0m\u001b[0;34m(\u001b[0m\u001b[0;34m*\u001b[0m\u001b[0margs\u001b[0m\u001b[0;34m)\u001b[0m\u001b[0;34m\u001b[0m\u001b[0;34m\u001b[0m\u001b[0m\n\u001b[0m\u001b[1;32m    217\u001b[0m     \u001b[0;32mreturn\u001b[0m \u001b[0mself\u001b[0m\u001b[0;34m.\u001b[0m\u001b[0mfunction_type\u001b[0m\u001b[0;34m.\u001b[0m\u001b[0mpack_output\u001b[0m\u001b[0;34m(\u001b[0m\u001b[0mflat_outputs\u001b[0m\u001b[0;34m)\u001b[0m\u001b[0;34m\u001b[0m\u001b[0;34m\u001b[0m\u001b[0m\n\u001b[1;32m    218\u001b[0m \u001b[0;34m\u001b[0m\u001b[0m\n",
            "\u001b[0;32m/usr/local/lib/python3.10/dist-packages/tensorflow/python/eager/polymorphic_function/atomic_function.py\u001b[0m in \u001b[0;36mcall_flat\u001b[0;34m(self, *args)\u001b[0m\n\u001b[1;32m    249\u001b[0m         \u001b[0;32mwith\u001b[0m \u001b[0mrecord\u001b[0m\u001b[0;34m.\u001b[0m\u001b[0mstop_recording\u001b[0m\u001b[0;34m(\u001b[0m\u001b[0;34m)\u001b[0m\u001b[0;34m:\u001b[0m\u001b[0;34m\u001b[0m\u001b[0;34m\u001b[0m\u001b[0m\n\u001b[1;32m    250\u001b[0m           \u001b[0;32mif\u001b[0m \u001b[0mself\u001b[0m\u001b[0;34m.\u001b[0m\u001b[0m_bound_context\u001b[0m\u001b[0;34m.\u001b[0m\u001b[0mexecuting_eagerly\u001b[0m\u001b[0;34m(\u001b[0m\u001b[0;34m)\u001b[0m\u001b[0;34m:\u001b[0m\u001b[0;34m\u001b[0m\u001b[0;34m\u001b[0m\u001b[0m\n\u001b[0;32m--> 251\u001b[0;31m             outputs = self._bound_context.call_function(\n\u001b[0m\u001b[1;32m    252\u001b[0m                 \u001b[0mself\u001b[0m\u001b[0;34m.\u001b[0m\u001b[0mname\u001b[0m\u001b[0;34m,\u001b[0m\u001b[0;34m\u001b[0m\u001b[0;34m\u001b[0m\u001b[0m\n\u001b[1;32m    253\u001b[0m                 \u001b[0mlist\u001b[0m\u001b[0;34m(\u001b[0m\u001b[0margs\u001b[0m\u001b[0;34m)\u001b[0m\u001b[0;34m,\u001b[0m\u001b[0;34m\u001b[0m\u001b[0;34m\u001b[0m\u001b[0m\n",
            "\u001b[0;32m/usr/local/lib/python3.10/dist-packages/tensorflow/python/eager/context.py\u001b[0m in \u001b[0;36mcall_function\u001b[0;34m(self, name, tensor_inputs, num_outputs)\u001b[0m\n\u001b[1;32m   1484\u001b[0m     \u001b[0mcancellation_context\u001b[0m \u001b[0;34m=\u001b[0m \u001b[0mcancellation\u001b[0m\u001b[0;34m.\u001b[0m\u001b[0mcontext\u001b[0m\u001b[0;34m(\u001b[0m\u001b[0;34m)\u001b[0m\u001b[0;34m\u001b[0m\u001b[0;34m\u001b[0m\u001b[0m\n\u001b[1;32m   1485\u001b[0m     \u001b[0;32mif\u001b[0m \u001b[0mcancellation_context\u001b[0m \u001b[0;32mis\u001b[0m \u001b[0;32mNone\u001b[0m\u001b[0;34m:\u001b[0m\u001b[0;34m\u001b[0m\u001b[0;34m\u001b[0m\u001b[0m\n\u001b[0;32m-> 1486\u001b[0;31m       outputs = execute.execute(\n\u001b[0m\u001b[1;32m   1487\u001b[0m           \u001b[0mname\u001b[0m\u001b[0;34m.\u001b[0m\u001b[0mdecode\u001b[0m\u001b[0;34m(\u001b[0m\u001b[0;34m\"utf-8\"\u001b[0m\u001b[0;34m)\u001b[0m\u001b[0;34m,\u001b[0m\u001b[0;34m\u001b[0m\u001b[0;34m\u001b[0m\u001b[0m\n\u001b[1;32m   1488\u001b[0m           \u001b[0mnum_outputs\u001b[0m\u001b[0;34m=\u001b[0m\u001b[0mnum_outputs\u001b[0m\u001b[0;34m,\u001b[0m\u001b[0;34m\u001b[0m\u001b[0;34m\u001b[0m\u001b[0m\n",
            "\u001b[0;32m/usr/local/lib/python3.10/dist-packages/tensorflow/python/eager/execute.py\u001b[0m in \u001b[0;36mquick_execute\u001b[0;34m(op_name, num_outputs, inputs, attrs, ctx, name)\u001b[0m\n\u001b[1;32m     51\u001b[0m   \u001b[0;32mtry\u001b[0m\u001b[0;34m:\u001b[0m\u001b[0;34m\u001b[0m\u001b[0;34m\u001b[0m\u001b[0m\n\u001b[1;32m     52\u001b[0m     \u001b[0mctx\u001b[0m\u001b[0;34m.\u001b[0m\u001b[0mensure_initialized\u001b[0m\u001b[0;34m(\u001b[0m\u001b[0;34m)\u001b[0m\u001b[0;34m\u001b[0m\u001b[0;34m\u001b[0m\u001b[0m\n\u001b[0;32m---> 53\u001b[0;31m     tensors = pywrap_tfe.TFE_Py_Execute(ctx._handle, device_name, op_name,\n\u001b[0m\u001b[1;32m     54\u001b[0m                                         inputs, attrs, num_outputs)\n\u001b[1;32m     55\u001b[0m   \u001b[0;32mexcept\u001b[0m \u001b[0mcore\u001b[0m\u001b[0;34m.\u001b[0m\u001b[0m_NotOkStatusException\u001b[0m \u001b[0;32mas\u001b[0m \u001b[0me\u001b[0m\u001b[0;34m:\u001b[0m\u001b[0;34m\u001b[0m\u001b[0;34m\u001b[0m\u001b[0m\n",
            "\u001b[0;31mKeyboardInterrupt\u001b[0m: "
          ]
        }
      ]
    },
    {
      "cell_type": "code",
      "source": [
        "def print_probs(info, vocab, top_k=5):\n",
        "    for i in info:\n",
        "        print(f\"\\nPROMPT: {i['prompt']}\")\n",
        "        word_probs = i[\"word_probs\"]\n",
        "        p_sorted = np.sort(word_probs)[::-1][:top_k]\n",
        "        i_sorted = np.argsort(word_probs)[::-1][:top_k]\n",
        "        for p, i in zip(p_sorted, i_sorted):\n",
        "            print(f\"{vocab[i]}:   \\t{np.round(100*p,2)}%\")\n",
        "        print(\"--------\\n\")"
      ],
      "metadata": {
        "id": "33jw4gmp3kEJ"
      },
      "execution_count": 59,
      "outputs": []
    },
    {
      "cell_type": "code",
      "source": [
        "info = text_generator.generate(\n",
        "    \"voldemort\", max_tokens=150, temperature=1\n",
        ")"
      ],
      "metadata": {
        "colab": {
          "base_uri": "https://localhost:8080/"
        },
        "id": "A5L0FX2fYUjU",
        "outputId": "b89bcfc4-7787-4fc6-a4d8-8290d1951249"
      },
      "execution_count": 64,
      "outputs": [
        {
          "output_type": "stream",
          "name": "stdout",
          "text": [
            "\n",
            "generated text:\n",
            "voldemort could have seen to tell using elder clutches as a new [UNK] , all still humming . piers , and but the thought top , harry will share with [UNK] , a third wizard likely this horrible [UNK] agreed to join in the tournament . he wanted to him who ’ve uses the news from him to want to suffer . got scabbers’s to escorted to notice it covered and there , they naturally had come , [UNK] occurred to the cell and weekends into the river high to page had appeared to side a [UNK] with a twitch of it over the team in the creature’s and [UNK] of his arms , and marmalade them . \n",
            "\n"
          ]
        }
      ]
    },
    {
      "cell_type": "code",
      "source": [
        "print_probs(info, vocab)"
      ],
      "metadata": {
        "colab": {
          "base_uri": "https://localhost:8080/"
        },
        "id": "Pefin_qdYfKV",
        "outputId": "c95c3ebd-0495-4165-dd00-c7fc105a5b03"
      },
      "execution_count": 65,
      "outputs": [
        {
          "output_type": "stream",
          "name": "stdout",
          "text": [
            "\n",
            "PROMPT: voldemort\n",
            "was:   \t22.67%\n",
            "had:   \t10.34%\n",
            ",:   \t10.13%\n",
            "and:   \t3.63%\n",
            "were:   \t3.61%\n",
            "--------\n",
            "\n",
            "\n",
            "PROMPT: voldemort could\n",
            "have:   \t8.24%\n",
            "be:   \t7.79%\n",
            "make:   \t4.5%\n",
            "feel:   \t4.41%\n",
            "see:   \t4.34%\n",
            "--------\n",
            "\n",
            "\n",
            "PROMPT: voldemort could have\n",
            "been:   \t19.09%\n",
            "a:   \t6.19%\n",
            "to:   \t5.23%\n",
            "the:   \t3.1%\n",
            "misunderstood:   \t2.0%\n",
            "--------\n",
            "\n",
            "\n",
            "PROMPT: voldemort could have seen\n",
            "to:   \t13.52%\n",
            "the:   \t10.45%\n",
            ",:   \t7.6%\n",
            "that:   \t5.29%\n",
            "a:   \t2.78%\n",
            "--------\n",
            "\n",
            "\n",
            "PROMPT: voldemort could have seen to\n",
            "be:   \t6.68%\n",
            "make:   \t3.05%\n",
            "[UNK]:   \t2.42%\n",
            "distract:   \t2.27%\n",
            "suffer:   \t2.19%\n",
            "--------\n",
            "\n",
            "\n",
            "PROMPT: voldemort could have seen to tell\n",
            "the:   \t11.84%\n",
            "whether:   \t11.3%\n",
            "that:   \t9.63%\n",
            "him:   \t6.26%\n",
            "to:   \t5.36%\n",
            "--------\n",
            "\n",
            "\n",
            "PROMPT: voldemort could have seen to tell using\n",
            "the:   \t23.85%\n",
            "his:   \t5.4%\n",
            "a:   \t3.65%\n",
            "it:   \t3.01%\n",
            "harry’s:   \t2.13%\n",
            "--------\n",
            "\n",
            "\n",
            "PROMPT: voldemort could have seen to tell using elder\n",
            "decision:   \t6.27%\n",
            "suspicions:   \t4.31%\n",
            "best:   \t3.07%\n",
            "sanity:   \t2.3%\n",
            "feet:   \t2.29%\n",
            "--------\n",
            "\n",
            "\n",
            "PROMPT: voldemort could have seen to tell using elder clutches\n",
            ",:   \t36.2%\n",
            ".:   \t11.66%\n",
            "and:   \t3.39%\n",
            ";:   \t3.01%\n",
            "or:   \t2.76%\n",
            "--------\n",
            "\n",
            "\n",
            "PROMPT: voldemort could have seen to tell using elder clutches as\n",
            "though:   \t17.94%\n",
            "he:   \t16.38%\n",
            "the:   \t9.29%\n",
            "she:   \t5.56%\n",
            "they:   \t2.89%\n",
            "--------\n",
            "\n",
            "\n",
            "PROMPT: voldemort could have seen to tell using elder clutches as a\n",
            "[UNK]:   \t5.56%\n",
            "few:   \t2.49%\n",
            "small:   \t2.37%\n",
            "kind:   \t2.04%\n",
            "short:   \t1.84%\n",
            "--------\n",
            "\n",
            "\n",
            "PROMPT: voldemort could have seen to tell using elder clutches as a new\n",
            "[UNK]:   \t19.34%\n",
            "arrivals:   \t7.3%\n",
            "world:   \t2.38%\n",
            "meal:   \t2.34%\n",
            "time:   \t1.7%\n",
            "--------\n",
            "\n",
            "\n",
            "PROMPT: voldemort could have seen to tell using elder clutches as a new [UNK]\n",
            "of:   \t14.71%\n",
            ",:   \t13.09%\n",
            "[UNK]:   \t4.83%\n",
            "was:   \t2.63%\n",
            ".:   \t2.59%\n",
            "--------\n",
            "\n",
            "\n",
            "PROMPT: voldemort could have seen to tell using elder clutches as a new [UNK] ,\n",
            "and:   \t11.08%\n",
            "which:   \t9.32%\n",
            "the:   \t5.66%\n",
            "he:   \t3.45%\n",
            "[UNK]:   \t3.34%\n",
            "--------\n",
            "\n",
            "\n",
            "PROMPT: voldemort could have seen to tell using elder clutches as a new [UNK] , all\n",
            "[UNK]:   \t8.85%\n",
            "of:   \t7.82%\n",
            "he:   \t6.34%\n",
            ",:   \t4.51%\n",
            "the:   \t3.71%\n",
            "--------\n",
            "\n",
            "\n",
            "PROMPT: voldemort could have seen to tell using elder clutches as a new [UNK] , all still\n",
            "[UNK]:   \t2.96%\n",
            "beginning:   \t1.6%\n",
            "in:   \t1.57%\n",
            "waiting:   \t1.4%\n",
            "attempting:   \t1.2%\n",
            "--------\n",
            "\n",
            "\n",
            "PROMPT: voldemort could have seen to tell using elder clutches as a new [UNK] , all still humming\n",
            ",:   \t27.68%\n",
            ".:   \t26.54%\n",
            "in:   \t4.08%\n",
            "to:   \t3.34%\n",
            ";:   \t2.97%\n",
            "--------\n",
            "\n",
            "\n",
            "PROMPT: voldemort could have seen to tell using elder clutches as a new [UNK] , all still humming .\n",
            ":   \t39.85%\n",
            "he:   \t5.43%\n",
            "“see:   \t1.56%\n",
            "“the:   \t1.51%\n",
            "it:   \t1.47%\n",
            "--------\n",
            "\n",
            "\n",
            "PROMPT: voldemort could have seen to tell using elder clutches as a new [UNK] , all still humming . piers\n",
            ",:   \t23.19%\n",
            "and:   \t8.51%\n",
            "had:   \t6.6%\n",
            "was:   \t5.95%\n",
            ".:   \t3.52%\n",
            "--------\n",
            "\n",
            "\n",
            "PROMPT: voldemort could have seen to tell using elder clutches as a new [UNK] , all still humming . piers ,\n",
            "ron:   \t14.1%\n",
            "and:   \t9.47%\n",
            "the:   \t7.65%\n",
            "harry:   \t5.43%\n",
            "a:   \t2.5%\n",
            "--------\n",
            "\n",
            "\n",
            "PROMPT: voldemort could have seen to tell using elder clutches as a new [UNK] , all still humming . piers , and\n",
            "the:   \t27.79%\n",
            "he:   \t8.16%\n",
            "a:   \t4.46%\n",
            "ron:   \t3.04%\n",
            "they:   \t2.65%\n",
            "--------\n",
            "\n",
            "\n",
            "PROMPT: voldemort could have seen to tell using elder clutches as a new [UNK] , all still humming . piers , and but\n",
            "he:   \t12.04%\n",
            "the:   \t7.33%\n",
            "they:   \t5.88%\n",
            "harry:   \t4.28%\n",
            "it:   \t3.09%\n",
            "--------\n",
            "\n",
            "\n",
            "PROMPT: voldemort could have seen to tell using elder clutches as a new [UNK] , all still humming . piers , and but the\n",
            "[UNK]:   \t5.32%\n",
            "reductor:   \t2.4%\n",
            "dursleys:   \t2.34%\n",
            "third:   \t2.2%\n",
            "latter:   \t2.11%\n",
            "--------\n",
            "\n",
            "\n",
            "PROMPT: voldemort could have seen to tell using elder clutches as a new [UNK] , all still humming . piers , and but the thought\n",
            "of:   \t17.78%\n",
            "that:   \t10.25%\n",
            ",:   \t10.19%\n",
            "would:   \t9.42%\n",
            "he:   \t5.03%\n",
            "--------\n",
            "\n",
            "\n",
            "PROMPT: voldemort could have seen to tell using elder clutches as a new [UNK] , all still humming . piers , and but the thought top\n",
            "of:   \t41.71%\n",
            ",:   \t15.09%\n",
            "will:   \t3.66%\n",
            "on:   \t3.5%\n",
            "and:   \t3.26%\n",
            "--------\n",
            "\n",
            "\n",
            "PROMPT: voldemort could have seen to tell using elder clutches as a new [UNK] , all still humming . piers , and but the thought top ,\n",
            "and:   \t9.82%\n",
            "which:   \t6.04%\n",
            "the:   \t5.62%\n",
            "he:   \t4.97%\n",
            "[UNK]:   \t3.69%\n",
            "--------\n",
            "\n",
            "\n",
            "PROMPT: voldemort could have seen to tell using elder clutches as a new [UNK] , all still humming . piers , and but the thought top , harry\n",
            "had:   \t29.68%\n",
            "was:   \t7.16%\n",
            ",:   \t5.97%\n",
            "thought:   \t5.62%\n",
            "could:   \t2.53%\n",
            "--------\n",
            "\n",
            "\n",
            "PROMPT: voldemort could have seen to tell using elder clutches as a new [UNK] , all still humming . piers , and but the thought top , harry will\n",
            "be:   \t19.49%\n",
            "not:   \t18.74%\n",
            "have:   \t11.5%\n",
            "consent:   \t4.81%\n",
            "to:   \t1.63%\n",
            "--------\n",
            "\n",
            "\n",
            "PROMPT: voldemort could have seen to tell using elder clutches as a new [UNK] , all still humming . piers , and but the thought top , harry will share\n",
            "to:   \t13.13%\n",
            ",:   \t8.65%\n",
            "and:   \t4.96%\n",
            "in:   \t4.8%\n",
            "it:   \t4.55%\n",
            "--------\n",
            "\n",
            "\n",
            "PROMPT: voldemort could have seen to tell using elder clutches as a new [UNK] , all still humming . piers , and but the thought top , harry will share with\n",
            "the:   \t23.6%\n",
            "a:   \t6.98%\n",
            "being:   \t3.53%\n",
            "his:   \t3.28%\n",
            "[UNK]:   \t2.61%\n",
            "--------\n",
            "\n",
            "\n",
            "PROMPT: voldemort could have seen to tell using elder clutches as a new [UNK] , all still humming . piers , and but the thought top , harry will share with [UNK]\n",
            ",:   \t23.03%\n",
            "[UNK]:   \t8.67%\n",
            ".:   \t6.49%\n",
            "to:   \t5.12%\n",
            "of:   \t3.81%\n",
            "--------\n",
            "\n",
            "\n",
            "PROMPT: voldemort could have seen to tell using elder clutches as a new [UNK] , all still humming . piers , and but the thought top , harry will share with [UNK] ,\n",
            "and:   \t7.85%\n",
            "he:   \t7.02%\n",
            "harry:   \t4.09%\n",
            "[UNK]:   \t3.83%\n",
            "which:   \t3.82%\n",
            "--------\n",
            "\n",
            "\n",
            "PROMPT: voldemort could have seen to tell using elder clutches as a new [UNK] , all still humming . piers , and but the thought top , harry will share with [UNK] , a\n",
            "[UNK]:   \t10.7%\n",
            "third:   \t3.02%\n",
            "kind:   \t2.03%\n",
            "new:   \t1.96%\n",
            "few:   \t1.8%\n",
            "--------\n",
            "\n",
            "\n",
            "PROMPT: voldemort could have seen to tell using elder clutches as a new [UNK] , all still humming . piers , and but the thought top , harry will share with [UNK] , a third\n",
            "[UNK]:   \t16.24%\n",
            "time:   \t3.2%\n",
            "thing:   \t3.11%\n",
            "task:   \t2.92%\n",
            "reason:   \t2.64%\n",
            "--------\n",
            "\n",
            "\n",
            "PROMPT: voldemort could have seen to tell using elder clutches as a new [UNK] , all still humming . piers , and but the thought top , harry will share with [UNK] , a third wizard\n",
            ",:   \t8.2%\n",
            "[UNK]:   \t7.83%\n",
            "was:   \t5.39%\n",
            "in:   \t4.15%\n",
            "would:   \t3.18%\n",
            "--------\n",
            "\n",
            "\n",
            "PROMPT: voldemort could have seen to tell using elder clutches as a new [UNK] , all still humming . piers , and but the thought top , harry will share with [UNK] , a third wizard likely\n",
            "he:   \t7.43%\n",
            "the:   \t6.97%\n",
            ",:   \t4.87%\n",
            "that:   \t4.57%\n",
            "to:   \t3.28%\n",
            "--------\n",
            "\n",
            "\n",
            "PROMPT: voldemort could have seen to tell using elder clutches as a new [UNK] , all still humming . piers , and but the thought top , harry will share with [UNK] , a third wizard likely this\n",
            "world:   \t4.85%\n",
            "[UNK]:   \t3.97%\n",
            "way:   \t2.99%\n",
            "news:   \t2.59%\n",
            "deaths:   \t2.36%\n",
            "--------\n",
            "\n",
            "\n",
            "PROMPT: voldemort could have seen to tell using elder clutches as a new [UNK] , all still humming . piers , and but the thought top , harry will share with [UNK] , a third wizard likely this horrible\n",
            "[UNK]:   \t23.2%\n",
            "-year:   \t3.24%\n",
            "world:   \t2.04%\n",
            ",:   \t2.01%\n",
            "wanderings:   \t1.33%\n",
            "--------\n",
            "\n",
            "\n",
            "PROMPT: voldemort could have seen to tell using elder clutches as a new [UNK] , all still humming . piers , and but the thought top , harry will share with [UNK] , a third wizard likely this horrible [UNK]\n",
            ",:   \t20.56%\n",
            "[UNK]:   \t7.26%\n",
            "of:   \t6.45%\n",
            ".:   \t4.73%\n",
            "was:   \t3.21%\n",
            "--------\n",
            "\n",
            "\n",
            "PROMPT: voldemort could have seen to tell using elder clutches as a new [UNK] , all still humming . piers , and but the thought top , harry will share with [UNK] , a third wizard likely this horrible [UNK] agreed\n",
            ",:   \t18.71%\n",
            "to:   \t14.51%\n",
            ".:   \t8.86%\n",
            "that:   \t3.76%\n",
            "in:   \t2.86%\n",
            "--------\n",
            "\n",
            "\n",
            "PROMPT: voldemort could have seen to tell using elder clutches as a new [UNK] , all still humming . piers , and but the thought top , harry will share with [UNK] , a third wizard likely this horrible [UNK] agreed to\n",
            "be:   \t7.95%\n",
            "[UNK]:   \t6.4%\n",
            "find:   \t3.45%\n",
            "distract:   \t3.32%\n",
            "make:   \t2.91%\n",
            "--------\n",
            "\n",
            "\n",
            "PROMPT: voldemort could have seen to tell using elder clutches as a new [UNK] , all still humming . piers , and but the thought top , harry will share with [UNK] , a third wizard likely this horrible [UNK] agreed to join\n",
            "the:   \t15.26%\n",
            "him:   \t11.39%\n",
            "them:   \t7.46%\n",
            "[UNK]:   \t5.33%\n",
            "it:   \t4.12%\n",
            "--------\n",
            "\n",
            "\n",
            "PROMPT: voldemort could have seen to tell using elder clutches as a new [UNK] , all still humming . piers , and but the thought top , harry will share with [UNK] , a third wizard likely this horrible [UNK] agreed to join in\n",
            "the:   \t28.59%\n",
            "a:   \t9.94%\n",
            "[UNK]:   \t4.81%\n",
            "his:   \t2.95%\n",
            "october:   \t1.45%\n",
            "--------\n",
            "\n",
            "\n",
            "PROMPT: voldemort could have seen to tell using elder clutches as a new [UNK] , all still humming . piers , and but the thought top , harry will share with [UNK] , a third wizard likely this horrible [UNK] agreed to join in the\n",
            "[UNK]:   \t5.3%\n",
            "world:   \t4.41%\n",
            "ministry:   \t2.41%\n",
            "kitchens:   \t2.33%\n",
            "third:   \t2.04%\n",
            "--------\n",
            "\n",
            "\n",
            "PROMPT: voldemort could have seen to tell using elder clutches as a new [UNK] , all still humming . piers , and but the thought top , harry will share with [UNK] , a third wizard likely this horrible [UNK] agreed to join in the tournament\n",
            ".:   \t23.2%\n",
            ",:   \t20.97%\n",
            "to:   \t3.69%\n",
            "of:   \t3.18%\n",
            "—:   \t3.06%\n",
            "--------\n",
            "\n",
            "\n",
            "PROMPT: voldemort could have seen to tell using elder clutches as a new [UNK] , all still humming . piers , and but the thought top , harry will share with [UNK] , a third wizard likely this horrible [UNK] agreed to join in the tournament .\n",
            ":   \t31.9%\n",
            "he:   \t8.57%\n",
            ".:   \t4.7%\n",
            "the:   \t4.49%\n",
            "they:   \t2.09%\n",
            "--------\n",
            "\n",
            "\n",
            "PROMPT: voldemort could have seen to tell using elder clutches as a new [UNK] , all still humming . piers , and but the thought top , harry will share with [UNK] , a third wizard likely this horrible [UNK] agreed to join in the tournament . he\n",
            "was:   \t25.33%\n",
            "had:   \t16.06%\n",
            "could:   \t5.02%\n",
            "would:   \t2.93%\n",
            "must:   \t2.29%\n",
            "--------\n",
            "\n",
            "\n",
            "PROMPT: voldemort could have seen to tell using elder clutches as a new [UNK] , all still humming . piers , and but the thought top , harry will share with [UNK] , a third wizard likely this horrible [UNK] agreed to join in the tournament . he wanted\n",
            "to:   \t64.27%\n",
            "on:   \t4.26%\n",
            "the:   \t2.95%\n",
            "him:   \t2.87%\n",
            "out:   \t1.83%\n",
            "--------\n",
            "\n",
            "\n",
            "PROMPT: voldemort could have seen to tell using elder clutches as a new [UNK] , all still humming . piers , and but the thought top , harry will share with [UNK] , a third wizard likely this horrible [UNK] agreed to join in the tournament . he wanted to\n",
            "be:   \t20.67%\n",
            "have:   \t3.37%\n",
            "make:   \t3.22%\n",
            "suffer:   \t2.68%\n",
            "distract:   \t2.46%\n",
            "--------\n",
            "\n",
            "\n",
            "PROMPT: voldemort could have seen to tell using elder clutches as a new [UNK] , all still humming . piers , and but the thought top , harry will share with [UNK] , a third wizard likely this horrible [UNK] agreed to join in the tournament . he wanted to him\n",
            ",:   \t16.59%\n",
            "to:   \t12.02%\n",
            ".:   \t9.19%\n",
            "himself:   \t2.48%\n",
            "out:   \t2.2%\n",
            "--------\n",
            "\n",
            "\n",
            "PROMPT: voldemort could have seen to tell using elder clutches as a new [UNK] , all still humming . piers , and but the thought top , harry will share with [UNK] , a third wizard likely this horrible [UNK] agreed to join in the tournament . he wanted to him who\n",
            "had:   \t18.09%\n",
            "was:   \t15.72%\n",
            "would:   \t6.3%\n",
            "were:   \t3.1%\n",
            "could:   \t2.94%\n",
            "--------\n",
            "\n",
            "\n",
            "PROMPT: voldemort could have seen to tell using elder clutches as a new [UNK] , all still humming . piers , and but the thought top , harry will share with [UNK] , a third wizard likely this horrible [UNK] agreed to join in the tournament . he wanted to him who ’ve\n",
            "had:   \t12.24%\n",
            "been:   \t4.71%\n",
            "intended:   \t1.85%\n",
            "unearthed:   \t1.77%\n",
            "died:   \t1.73%\n",
            "--------\n",
            "\n",
            "\n",
            "PROMPT: voldemort could have seen to tell using elder clutches as a new [UNK] , all still humming . piers , and but the thought top , harry will share with [UNK] , a third wizard likely this horrible [UNK] agreed to join in the tournament . he wanted to him who ’ve uses\n",
            ",:   \t10.99%\n",
            "about:   \t8.67%\n",
            "the:   \t6.62%\n",
            "to:   \t5.39%\n",
            "for:   \t5.14%\n",
            "--------\n",
            "\n",
            "\n",
            "PROMPT: voldemort could have seen to tell using elder clutches as a new [UNK] , all still humming . piers , and but the thought top , harry will share with [UNK] , a third wizard likely this horrible [UNK] agreed to join in the tournament . he wanted to him who ’ve uses the\n",
            "[UNK]:   \t9.75%\n",
            "team:   \t3.11%\n",
            "ministry:   \t1.84%\n",
            "thing:   \t1.55%\n",
            "way:   \t1.21%\n",
            "--------\n",
            "\n",
            "\n",
            "PROMPT: voldemort could have seen to tell using elder clutches as a new [UNK] , all still humming . piers , and but the thought top , harry will share with [UNK] , a third wizard likely this horrible [UNK] agreed to join in the tournament . he wanted to him who ’ve uses the news\n",
            "in:   \t28.27%\n",
            ",:   \t16.49%\n",
            ".:   \t12.91%\n",
            "of:   \t10.75%\n",
            "to:   \t4.4%\n",
            "--------\n",
            "\n",
            "\n",
            "PROMPT: voldemort could have seen to tell using elder clutches as a new [UNK] , all still humming . piers , and but the thought top , harry will share with [UNK] , a third wizard likely this horrible [UNK] agreed to join in the tournament . he wanted to him who ’ve uses the news from\n",
            "the:   \t35.87%\n",
            "him:   \t5.51%\n",
            "his:   \t4.04%\n",
            "their:   \t2.75%\n",
            "which:   \t2.54%\n",
            "--------\n",
            "\n",
            "\n",
            "PROMPT: voldemort could have seen to tell using elder clutches as a new [UNK] , all still humming . piers , and but the thought top , harry will share with [UNK] , a third wizard likely this horrible [UNK] agreed to join in the tournament . he wanted to him who ’ve uses the news from him\n",
            ",:   \t30.57%\n",
            ".:   \t16.42%\n",
            "to:   \t7.12%\n",
            "than:   \t2.0%\n",
            "and:   \t1.72%\n",
            "--------\n",
            "\n",
            "\n",
            "PROMPT: voldemort could have seen to tell using elder clutches as a new [UNK] , all still humming . piers , and but the thought top , harry will share with [UNK] , a third wizard likely this horrible [UNK] agreed to join in the tournament . he wanted to him who ’ve uses the news from him to\n",
            "[UNK]:   \t5.69%\n",
            "be:   \t4.11%\n",
            "the:   \t3.19%\n",
            "find:   \t2.95%\n",
            "make:   \t2.45%\n",
            "--------\n",
            "\n",
            "\n",
            "PROMPT: voldemort could have seen to tell using elder clutches as a new [UNK] , all still humming . piers , and but the thought top , harry will share with [UNK] , a third wizard likely this horrible [UNK] agreed to join in the tournament . he wanted to him who ’ve uses the news from him to want\n",
            "to:   \t41.86%\n",
            "the:   \t9.69%\n",
            "a:   \t3.89%\n",
            "that:   \t2.07%\n",
            ",:   \t2.05%\n",
            "--------\n",
            "\n",
            "\n",
            "PROMPT: voldemort could have seen to tell using elder clutches as a new [UNK] , all still humming . piers , and but the thought top , harry will share with [UNK] , a third wizard likely this horrible [UNK] agreed to join in the tournament . he wanted to him who ’ve uses the news from him to want to\n",
            "be:   \t14.51%\n",
            "find:   \t3.9%\n",
            "make:   \t3.48%\n",
            "[UNK]:   \t2.56%\n",
            "extract:   \t1.98%\n",
            "--------\n",
            "\n",
            "\n",
            "PROMPT: voldemort could have seen to tell using elder clutches as a new [UNK] , all still humming . piers , and but the thought top , harry will share with [UNK] , a third wizard likely this horrible [UNK] agreed to join in the tournament . he wanted to him who ’ve uses the news from him to want to suffer\n",
            ",:   \t21.43%\n",
            "to:   \t14.45%\n",
            ".:   \t6.75%\n",
            "that:   \t2.86%\n",
            "on:   \t2.15%\n",
            "--------\n",
            "\n",
            "\n",
            "PROMPT: voldemort could have seen to tell using elder clutches as a new [UNK] , all still humming . piers , and but the thought top , harry will share with [UNK] , a third wizard likely this horrible [UNK] agreed to join in the tournament . he wanted to him who ’ve uses the news from him to want to suffer .\n",
            ":   \t25.82%\n",
            ".:   \t9.78%\n",
            "he:   \t9.13%\n",
            "the:   \t4.25%\n",
            "but:   \t2.85%\n",
            "--------\n",
            "\n",
            "\n",
            "PROMPT: voldemort could have seen to tell using elder clutches as a new [UNK] , all still humming . piers , and but the thought top , harry will share with [UNK] , a third wizard likely this horrible [UNK] agreed to join in the tournament . he wanted to him who ’ve uses the news from him to want to suffer . got\n",
            "the:   \t11.19%\n",
            "a:   \t10.31%\n",
            "[UNK]:   \t6.03%\n",
            "to:   \t4.08%\n",
            "up:   \t3.28%\n",
            "--------\n",
            "\n",
            "\n",
            "PROMPT: voldemort could have seen to tell using elder clutches as a new [UNK] , all still humming . piers , and but the thought top , harry will share with [UNK] , a third wizard likely this horrible [UNK] agreed to join in the tournament . he wanted to him who ’ve uses the news from him to want to suffer . got scabbers’s\n",
            "[UNK]:   \t7.84%\n",
            ",:   \t2.99%\n",
            "to:   \t1.96%\n",
            ".:   \t1.55%\n",
            "-blood:   \t1.49%\n",
            "--------\n",
            "\n",
            "\n",
            "PROMPT: voldemort could have seen to tell using elder clutches as a new [UNK] , all still humming . piers , and but the thought top , harry will share with [UNK] , a third wizard likely this horrible [UNK] agreed to join in the tournament . he wanted to him who ’ve uses the news from him to want to suffer . got scabbers’s to\n",
            "be:   \t10.21%\n",
            "[UNK]:   \t7.05%\n",
            "make:   \t3.24%\n",
            "find:   \t2.94%\n",
            "the:   \t2.21%\n",
            "--------\n",
            "\n",
            "\n",
            "PROMPT: voldemort could have seen to tell using elder clutches as a new [UNK] , all still humming . piers , and but the thought top , harry will share with [UNK] , a third wizard likely this horrible [UNK] agreed to join in the tournament . he wanted to him who ’ve uses the news from him to want to suffer . got scabbers’s to escorted\n",
            "to:   \t21.74%\n",
            ",:   \t16.17%\n",
            ".:   \t10.7%\n",
            "on:   \t6.64%\n",
            "up:   \t3.9%\n",
            "--------\n",
            "\n",
            "\n",
            "PROMPT: voldemort could have seen to tell using elder clutches as a new [UNK] , all still humming . piers , and but the thought top , harry will share with [UNK] , a third wizard likely this horrible [UNK] agreed to join in the tournament . he wanted to him who ’ve uses the news from him to want to suffer . got scabbers’s to escorted to\n",
            "the:   \t19.46%\n",
            "him:   \t6.46%\n",
            "[UNK]:   \t4.54%\n",
            "me:   \t3.74%\n",
            "a:   \t3.68%\n",
            "--------\n",
            "\n",
            "\n",
            "PROMPT: voldemort could have seen to tell using elder clutches as a new [UNK] , all still humming . piers , and but the thought top , harry will share with [UNK] , a third wizard likely this horrible [UNK] agreed to join in the tournament . he wanted to him who ’ve uses the news from him to want to suffer . got scabbers’s to escorted to notice\n",
            "it:   \t10.18%\n",
            "in:   \t9.31%\n",
            ",:   \t8.17%\n",
            "the:   \t7.05%\n",
            "that:   \t4.87%\n",
            "--------\n",
            "\n",
            "\n",
            "PROMPT: voldemort could have seen to tell using elder clutches as a new [UNK] , all still humming . piers , and but the thought top , harry will share with [UNK] , a third wizard likely this horrible [UNK] agreed to join in the tournament . he wanted to him who ’ve uses the news from him to want to suffer . got scabbers’s to escorted to notice it\n",
            ",:   \t39.49%\n",
            "was:   \t12.15%\n",
            ".:   \t11.04%\n",
            "in:   \t2.38%\n",
            "to:   \t2.08%\n",
            "--------\n",
            "\n",
            "\n",
            "PROMPT: voldemort could have seen to tell using elder clutches as a new [UNK] , all still humming . piers , and but the thought top , harry will share with [UNK] , a third wizard likely this horrible [UNK] agreed to join in the tournament . he wanted to him who ’ve uses the news from him to want to suffer . got scabbers’s to escorted to notice it covered\n",
            "in:   \t38.93%\n",
            "and:   \t8.53%\n",
            "his:   \t6.6%\n",
            "with:   \t5.26%\n",
            "the:   \t3.91%\n",
            "--------\n",
            "\n",
            "\n",
            "PROMPT: voldemort could have seen to tell using elder clutches as a new [UNK] , all still humming . piers , and but the thought top , harry will share with [UNK] , a third wizard likely this horrible [UNK] agreed to join in the tournament . he wanted to him who ’ve uses the news from him to want to suffer . got scabbers’s to escorted to notice it covered and\n",
            "the:   \t13.67%\n",
            "[UNK]:   \t5.94%\n",
            "a:   \t4.94%\n",
            "he:   \t3.41%\n",
            "to:   \t2.95%\n",
            "--------\n",
            "\n",
            "\n",
            "PROMPT: voldemort could have seen to tell using elder clutches as a new [UNK] , all still humming . piers , and but the thought top , harry will share with [UNK] , a third wizard likely this horrible [UNK] agreed to join in the tournament . he wanted to him who ’ve uses the news from him to want to suffer . got scabbers’s to escorted to notice it covered and there\n",
            ",:   \t34.18%\n",
            "was:   \t22.51%\n",
            "were:   \t7.65%\n",
            ".:   \t4.44%\n",
            "of:   \t2.94%\n",
            "--------\n",
            "\n",
            "\n",
            "PROMPT: voldemort could have seen to tell using elder clutches as a new [UNK] , all still humming . piers , and but the thought top , harry will share with [UNK] , a third wizard likely this horrible [UNK] agreed to join in the tournament . he wanted to him who ’ve uses the news from him to want to suffer . got scabbers’s to escorted to notice it covered and there ,\n",
            "and:   \t11.0%\n",
            "the:   \t6.73%\n",
            "he:   \t4.0%\n",
            "however:   \t3.29%\n",
            "[UNK]:   \t3.11%\n",
            "--------\n",
            "\n",
            "\n",
            "PROMPT: voldemort could have seen to tell using elder clutches as a new [UNK] , all still humming . piers , and but the thought top , harry will share with [UNK] , a third wizard likely this horrible [UNK] agreed to join in the tournament . he wanted to him who ’ve uses the news from him to want to suffer . got scabbers’s to escorted to notice it covered and there , they\n",
            "were:   \t14.55%\n",
            "had:   \t7.68%\n",
            "was:   \t2.92%\n",
            "saw:   \t2.42%\n",
            "hurried:   \t2.22%\n",
            "--------\n",
            "\n",
            "\n",
            "PROMPT: voldemort could have seen to tell using elder clutches as a new [UNK] , all still humming . piers , and but the thought top , harry will share with [UNK] , a third wizard likely this horrible [UNK] agreed to join in the tournament . he wanted to him who ’ve uses the news from him to want to suffer . got scabbers’s to escorted to notice it covered and there , they naturally\n",
            "was:   \t31.11%\n",
            "had:   \t14.07%\n",
            ",:   \t8.39%\n",
            "could:   \t3.71%\n",
            "were:   \t3.38%\n",
            "--------\n",
            "\n",
            "\n",
            "PROMPT: voldemort could have seen to tell using elder clutches as a new [UNK] , all still humming . piers , and but the thought top , harry will share with [UNK] , a third wizard likely this horrible [UNK] agreed to join in the tournament . he wanted to him who ’ve uses the news from him to want to suffer . got scabbers’s to escorted to notice it covered and there , they naturally had\n",
            "been:   \t18.69%\n",
            "a:   \t4.12%\n",
            "to:   \t2.64%\n",
            "no:   \t2.36%\n",
            "gone:   \t2.19%\n",
            "--------\n",
            "\n",
            "\n",
            "PROMPT: voldemort could have seen to tell using elder clutches as a new [UNK] , all still humming . piers , and but the thought top , harry will share with [UNK] , a third wizard likely this horrible [UNK] agreed to join in the tournament . he wanted to him who ’ve uses the news from him to want to suffer . got scabbers’s to escorted to notice it covered and there , they naturally had come\n",
            "to:   \t44.06%\n",
            "on:   \t9.44%\n",
            ",:   \t4.28%\n",
            "at:   \t4.25%\n",
            "in:   \t2.18%\n",
            "--------\n",
            "\n",
            "\n",
            "PROMPT: voldemort could have seen to tell using elder clutches as a new [UNK] , all still humming . piers , and but the thought top , harry will share with [UNK] , a third wizard likely this horrible [UNK] agreed to join in the tournament . he wanted to him who ’ve uses the news from him to want to suffer . got scabbers’s to escorted to notice it covered and there , they naturally had come ,\n",
            "he:   \t7.85%\n",
            "and:   \t6.39%\n",
            "however:   \t4.41%\n",
            "the:   \t4.13%\n",
            "but:   \t3.77%\n",
            "--------\n",
            "\n",
            "\n",
            "PROMPT: voldemort could have seen to tell using elder clutches as a new [UNK] , all still humming . piers , and but the thought top , harry will share with [UNK] , a third wizard likely this horrible [UNK] agreed to join in the tournament . he wanted to him who ’ve uses the news from him to want to suffer . got scabbers’s to escorted to notice it covered and there , they naturally had come , [UNK]\n",
            ",:   \t21.84%\n",
            "to:   \t6.16%\n",
            "of:   \t5.9%\n",
            "the:   \t4.26%\n",
            "[UNK]:   \t4.13%\n",
            "--------\n",
            "\n",
            "\n",
            "PROMPT: voldemort could have seen to tell using elder clutches as a new [UNK] , all still humming . piers , and but the thought top , harry will share with [UNK] , a third wizard likely this horrible [UNK] agreed to join in the tournament . he wanted to him who ’ve uses the news from him to want to suffer . got scabbers’s to escorted to notice it covered and there , they naturally had come , [UNK] occurred\n",
            "to:   \t21.01%\n",
            ",:   \t20.48%\n",
            "on:   \t7.56%\n",
            ".:   \t5.76%\n",
            "at:   \t5.4%\n",
            "--------\n",
            "\n",
            "\n",
            "PROMPT: voldemort could have seen to tell using elder clutches as a new [UNK] , all still humming . piers , and but the thought top , harry will share with [UNK] , a third wizard likely this horrible [UNK] agreed to join in the tournament . he wanted to him who ’ve uses the news from him to want to suffer . got scabbers’s to escorted to notice it covered and there , they naturally had come , [UNK] occurred to\n",
            "the:   \t32.31%\n",
            "him:   \t6.43%\n",
            "his:   \t5.46%\n",
            "a:   \t4.8%\n",
            "[UNK]:   \t3.48%\n",
            "--------\n",
            "\n",
            "\n",
            "PROMPT: voldemort could have seen to tell using elder clutches as a new [UNK] , all still humming . piers , and but the thought top , harry will share with [UNK] , a third wizard likely this horrible [UNK] agreed to join in the tournament . he wanted to him who ’ve uses the news from him to want to suffer . got scabbers’s to escorted to notice it covered and there , they naturally had come , [UNK] occurred to the\n",
            "[UNK]:   \t5.17%\n",
            "ministry:   \t3.16%\n",
            "hospital:   \t2.77%\n",
            "third:   \t2.61%\n",
            "world:   \t1.91%\n",
            "--------\n",
            "\n",
            "\n",
            "PROMPT: voldemort could have seen to tell using elder clutches as a new [UNK] , all still humming . piers , and but the thought top , harry will share with [UNK] , a third wizard likely this horrible [UNK] agreed to join in the tournament . he wanted to him who ’ve uses the news from him to want to suffer . got scabbers’s to escorted to notice it covered and there , they naturally had come , [UNK] occurred to the cell\n",
            "of:   \t16.27%\n",
            ".:   \t16.06%\n",
            ",:   \t12.88%\n",
            "and:   \t8.56%\n",
            "on:   \t2.74%\n",
            "--------\n",
            "\n",
            "\n",
            "PROMPT: voldemort could have seen to tell using elder clutches as a new [UNK] , all still humming . piers , and but the thought top , harry will share with [UNK] , a third wizard likely this horrible [UNK] agreed to join in the tournament . he wanted to him who ’ve uses the news from him to want to suffer . got scabbers’s to escorted to notice it covered and there , they naturally had come , [UNK] occurred to the cell and\n",
            "the:   \t19.52%\n",
            "[UNK]:   \t5.81%\n",
            "a:   \t3.59%\n",
            "which:   \t2.27%\n",
            "and:   \t1.36%\n",
            "--------\n",
            "\n",
            "\n",
            "PROMPT: voldemort could have seen to tell using elder clutches as a new [UNK] , all still humming . piers , and but the thought top , harry will share with [UNK] , a third wizard likely this horrible [UNK] agreed to join in the tournament . he wanted to him who ’ve uses the news from him to want to suffer . got scabbers’s to escorted to notice it covered and there , they naturally had come , [UNK] occurred to the cell and weekends\n",
            ",:   \t32.81%\n",
            "to:   \t25.3%\n",
            ".:   \t12.44%\n",
            "and:   \t5.75%\n",
            "on:   \t3.13%\n",
            "--------\n",
            "\n",
            "\n",
            "PROMPT: voldemort could have seen to tell using elder clutches as a new [UNK] , all still humming . piers , and but the thought top , harry will share with [UNK] , a third wizard likely this horrible [UNK] agreed to join in the tournament . he wanted to him who ’ve uses the news from him to want to suffer . got scabbers’s to escorted to notice it covered and there , they naturally had come , [UNK] occurred to the cell and weekends into\n",
            "the:   \t47.64%\n",
            "a:   \t3.23%\n",
            "his:   \t3.18%\n",
            "their:   \t2.77%\n",
            "harry’s:   \t1.98%\n",
            "--------\n",
            "\n",
            "\n",
            "PROMPT: voldemort could have seen to tell using elder clutches as a new [UNK] , all still humming . piers , and but the thought top , harry will share with [UNK] , a third wizard likely this horrible [UNK] agreed to join in the tournament . he wanted to him who ’ve uses the news from him to want to suffer . got scabbers’s to escorted to notice it covered and there , they naturally had come , [UNK] occurred to the cell and weekends into the\n",
            "[UNK]:   \t5.03%\n",
            "kitchens:   \t3.12%\n",
            "ministry:   \t2.87%\n",
            "world:   \t2.61%\n",
            "third:   \t1.9%\n",
            "--------\n",
            "\n",
            "\n",
            "PROMPT: voldemort could have seen to tell using elder clutches as a new [UNK] , all still humming . piers , and but the thought top , harry will share with [UNK] , a third wizard likely this horrible [UNK] agreed to join in the tournament . he wanted to him who ’ve uses the news from him to want to suffer . got scabbers’s to escorted to notice it covered and there , they naturally had come , [UNK] occurred to the cell and weekends into the river\n",
            "and:   \t16.04%\n",
            "of:   \t12.85%\n",
            ",:   \t12.6%\n",
            ".:   \t10.54%\n",
            "to:   \t3.74%\n",
            "--------\n",
            "\n",
            "\n",
            "PROMPT: voldemort could have seen to tell using elder clutches as a new [UNK] , all still humming . piers , and but the thought top , harry will share with [UNK] , a third wizard likely this horrible [UNK] agreed to join in the tournament . he wanted to him who ’ve uses the news from him to want to suffer . got scabbers’s to escorted to notice it covered and there , they naturally had come , [UNK] occurred to the cell and weekends into the river high\n",
            ",:   \t14.82%\n",
            "and:   \t14.16%\n",
            "of:   \t6.27%\n",
            ".:   \t6.11%\n",
            "on:   \t2.86%\n",
            "--------\n",
            "\n",
            "\n",
            "PROMPT: voldemort could have seen to tell using elder clutches as a new [UNK] , all still humming . piers , and but the thought top , harry will share with [UNK] , a third wizard likely this horrible [UNK] agreed to join in the tournament . he wanted to him who ’ve uses the news from him to want to suffer . got scabbers’s to escorted to notice it covered and there , they naturally had come , [UNK] occurred to the cell and weekends into the river high to\n",
            "the:   \t27.03%\n",
            "[UNK]:   \t6.72%\n",
            "a:   \t4.3%\n",
            "his:   \t3.66%\n",
            "him:   \t2.88%\n",
            "--------\n",
            "\n",
            "\n",
            "PROMPT: voldemort could have seen to tell using elder clutches as a new [UNK] , all still humming . piers , and but the thought top , harry will share with [UNK] , a third wizard likely this horrible [UNK] agreed to join in the tournament . he wanted to him who ’ve uses the news from him to want to suffer . got scabbers’s to escorted to notice it covered and there , they naturally had come , [UNK] occurred to the cell and weekends into the river high to page\n",
            ",:   \t30.13%\n",
            "|:   \t22.32%\n",
            ".:   \t11.57%\n",
            "and:   \t8.3%\n",
            "to:   \t3.71%\n",
            "--------\n",
            "\n",
            "\n",
            "PROMPT: voldemort could have seen to tell using elder clutches as a new [UNK] , all still humming . piers , and but the thought top , harry will share with [UNK] , a third wizard likely this horrible [UNK] agreed to join in the tournament . he wanted to him who ’ve uses the news from him to want to suffer . got scabbers’s to escorted to notice it covered and there , they naturally had come , [UNK] occurred to the cell and weekends into the river high to page had\n",
            "been:   \t17.86%\n",
            "a:   \t7.23%\n",
            "to:   \t6.27%\n",
            "[UNK]:   \t3.94%\n",
            "gone:   \t2.67%\n",
            "--------\n",
            "\n",
            "\n",
            "PROMPT: voldemort could have seen to tell using elder clutches as a new [UNK] , all still humming . piers , and but the thought top , harry will share with [UNK] , a third wizard likely this horrible [UNK] agreed to join in the tournament . he wanted to him who ’ve uses the news from him to want to suffer . got scabbers’s to escorted to notice it covered and there , they naturally had come , [UNK] occurred to the cell and weekends into the river high to page had appeared\n",
            "to:   \t45.19%\n",
            ",:   \t7.77%\n",
            "at:   \t4.69%\n",
            "on:   \t3.35%\n",
            "out:   \t2.47%\n",
            "--------\n",
            "\n",
            "\n",
            "PROMPT: voldemort could have seen to tell using elder clutches as a new [UNK] , all still humming . piers , and but the thought top , harry will share with [UNK] , a third wizard likely this horrible [UNK] agreed to join in the tournament . he wanted to him who ’ve uses the news from him to want to suffer . got scabbers’s to escorted to notice it covered and there , they naturally had come , [UNK] occurred to the cell and weekends into the river high to page had appeared to\n",
            "[UNK]:   \t9.96%\n",
            "be:   \t8.42%\n",
            "have:   \t3.02%\n",
            "the:   \t2.7%\n",
            "find:   \t2.46%\n",
            "--------\n",
            "\n",
            "\n",
            "PROMPT: voldemort could have seen to tell using elder clutches as a new [UNK] , all still humming . piers , and but the thought top , harry will share with [UNK] , a third wizard likely this horrible [UNK] agreed to join in the tournament . he wanted to him who ’ve uses the news from him to want to suffer . got scabbers’s to escorted to notice it covered and there , they naturally had come , [UNK] occurred to the cell and weekends into the river high to page had appeared to side\n",
            "of:   \t14.51%\n",
            "to:   \t14.12%\n",
            "the:   \t9.65%\n",
            "a:   \t5.21%\n",
            "his:   \t4.76%\n",
            "--------\n",
            "\n",
            "\n",
            "PROMPT: voldemort could have seen to tell using elder clutches as a new [UNK] , all still humming . piers , and but the thought top , harry will share with [UNK] , a third wizard likely this horrible [UNK] agreed to join in the tournament . he wanted to him who ’ve uses the news from him to want to suffer . got scabbers’s to escorted to notice it covered and there , they naturally had come , [UNK] occurred to the cell and weekends into the river high to page had appeared to side a\n",
            "[UNK]:   \t9.57%\n",
            "short:   \t3.71%\n",
            "new:   \t2.75%\n",
            "small:   \t2.25%\n",
            "page:   \t2.09%\n",
            "--------\n",
            "\n",
            "\n",
            "PROMPT: voldemort could have seen to tell using elder clutches as a new [UNK] , all still humming . piers , and but the thought top , harry will share with [UNK] , a third wizard likely this horrible [UNK] agreed to join in the tournament . he wanted to him who ’ve uses the news from him to want to suffer . got scabbers’s to escorted to notice it covered and there , they naturally had come , [UNK] occurred to the cell and weekends into the river high to page had appeared to side a [UNK]\n",
            "of:   \t26.52%\n",
            ",:   \t12.48%\n",
            "in:   \t5.94%\n",
            ".:   \t4.53%\n",
            "way:   \t4.37%\n",
            "--------\n",
            "\n",
            "\n",
            "PROMPT: voldemort could have seen to tell using elder clutches as a new [UNK] , all still humming . piers , and but the thought top , harry will share with [UNK] , a third wizard likely this horrible [UNK] agreed to join in the tournament . he wanted to him who ’ve uses the news from him to want to suffer . got scabbers’s to escorted to notice it covered and there , they naturally had come , [UNK] occurred to the cell and weekends into the river high to page had appeared to side a [UNK] with\n",
            "the:   \t21.44%\n",
            "his:   \t17.07%\n",
            "a:   \t16.45%\n",
            "[UNK]:   \t4.31%\n",
            "an:   \t1.77%\n",
            "--------\n",
            "\n",
            "\n",
            "PROMPT: voldemort could have seen to tell using elder clutches as a new [UNK] , all still humming . piers , and but the thought top , harry will share with [UNK] , a third wizard likely this horrible [UNK] agreed to join in the tournament . he wanted to him who ’ve uses the news from him to want to suffer . got scabbers’s to escorted to notice it covered and there , they naturally had come , [UNK] occurred to the cell and weekends into the river high to page had appeared to side a [UNK] with a\n",
            "[UNK]:   \t7.35%\n",
            "kind:   \t2.85%\n",
            "small:   \t2.29%\n",
            "short:   \t2.2%\n",
            "palace:   \t1.94%\n",
            "--------\n",
            "\n",
            "\n",
            "PROMPT: voldemort could have seen to tell using elder clutches as a new [UNK] , all still humming . piers , and but the thought top , harry will share with [UNK] , a third wizard likely this horrible [UNK] agreed to join in the tournament . he wanted to him who ’ve uses the news from him to want to suffer . got scabbers’s to escorted to notice it covered and there , they naturally had come , [UNK] occurred to the cell and weekends into the river high to page had appeared to side a [UNK] with a twitch\n",
            ",:   \t34.55%\n",
            ".:   \t18.86%\n",
            "of:   \t8.9%\n",
            "and:   \t3.93%\n",
            ";:   \t1.57%\n",
            "--------\n",
            "\n",
            "\n",
            "PROMPT: voldemort could have seen to tell using elder clutches as a new [UNK] , all still humming . piers , and but the thought top , harry will share with [UNK] , a third wizard likely this horrible [UNK] agreed to join in the tournament . he wanted to him who ’ve uses the news from him to want to suffer . got scabbers’s to escorted to notice it covered and there , they naturally had come , [UNK] occurred to the cell and weekends into the river high to page had appeared to side a [UNK] with a twitch of\n",
            "the:   \t21.22%\n",
            "his:   \t12.43%\n",
            "[UNK]:   \t7.61%\n",
            "a:   \t7.33%\n",
            "it:   \t3.89%\n",
            "--------\n",
            "\n",
            "\n",
            "PROMPT: voldemort could have seen to tell using elder clutches as a new [UNK] , all still humming . piers , and but the thought top , harry will share with [UNK] , a third wizard likely this horrible [UNK] agreed to join in the tournament . he wanted to him who ’ve uses the news from him to want to suffer . got scabbers’s to escorted to notice it covered and there , they naturally had come , [UNK] occurred to the cell and weekends into the river high to page had appeared to side a [UNK] with a twitch of it\n",
            ".:   \t26.51%\n",
            ",:   \t24.35%\n",
            "on:   \t3.63%\n",
            "to:   \t2.72%\n",
            "in:   \t1.68%\n",
            "--------\n",
            "\n",
            "\n",
            "PROMPT: voldemort could have seen to tell using elder clutches as a new [UNK] , all still humming . piers , and but the thought top , harry will share with [UNK] , a third wizard likely this horrible [UNK] agreed to join in the tournament . he wanted to him who ’ve uses the news from him to want to suffer . got scabbers’s to escorted to notice it covered and there , they naturally had come , [UNK] occurred to the cell and weekends into the river high to page had appeared to side a [UNK] with a twitch of it over\n",
            "to:   \t18.55%\n",
            "the:   \t11.37%\n",
            "his:   \t6.96%\n",
            ".:   \t5.07%\n",
            "on:   \t4.27%\n",
            "--------\n",
            "\n",
            "\n",
            "PROMPT: voldemort could have seen to tell using elder clutches as a new [UNK] , all still humming . piers , and but the thought top , harry will share with [UNK] , a third wizard likely this horrible [UNK] agreed to join in the tournament . he wanted to him who ’ve uses the news from him to want to suffer . got scabbers’s to escorted to notice it covered and there , they naturally had come , [UNK] occurred to the cell and weekends into the river high to page had appeared to side a [UNK] with a twitch of it over the\n",
            "[UNK]:   \t9.72%\n",
            "grounds:   \t2.87%\n",
            "wall:   \t1.53%\n",
            "end:   \t1.43%\n",
            "way:   \t1.34%\n",
            "--------\n",
            "\n",
            "\n",
            "PROMPT: voldemort could have seen to tell using elder clutches as a new [UNK] , all still humming . piers , and but the thought top , harry will share with [UNK] , a third wizard likely this horrible [UNK] agreed to join in the tournament . he wanted to him who ’ve uses the news from him to want to suffer . got scabbers’s to escorted to notice it covered and there , they naturally had come , [UNK] occurred to the cell and weekends into the river high to page had appeared to side a [UNK] with a twitch of it over the team\n",
            ",:   \t19.12%\n",
            "in:   \t11.01%\n",
            ".:   \t8.49%\n",
            "to:   \t7.68%\n",
            "[UNK]:   \t4.91%\n",
            "--------\n",
            "\n",
            "\n",
            "PROMPT: voldemort could have seen to tell using elder clutches as a new [UNK] , all still humming . piers , and but the thought top , harry will share with [UNK] , a third wizard likely this horrible [UNK] agreed to join in the tournament . he wanted to him who ’ve uses the news from him to want to suffer . got scabbers’s to escorted to notice it covered and there , they naturally had come , [UNK] occurred to the cell and weekends into the river high to page had appeared to side a [UNK] with a twitch of it over the team in\n",
            "the:   \t33.79%\n",
            "a:   \t15.37%\n",
            "his:   \t10.37%\n",
            "[UNK]:   \t2.74%\n",
            "it:   \t1.21%\n",
            "--------\n",
            "\n",
            "\n",
            "PROMPT: voldemort could have seen to tell using elder clutches as a new [UNK] , all still humming . piers , and but the thought top , harry will share with [UNK] , a third wizard likely this horrible [UNK] agreed to join in the tournament . he wanted to him who ’ve uses the news from him to want to suffer . got scabbers’s to escorted to notice it covered and there , they naturally had come , [UNK] occurred to the cell and weekends into the river high to page had appeared to side a [UNK] with a twitch of it over the team in the\n",
            "[UNK]:   \t5.64%\n",
            "middle:   \t4.39%\n",
            "room:   \t2.06%\n",
            "grounds:   \t1.97%\n",
            "pensieve:   \t1.78%\n",
            "--------\n",
            "\n",
            "\n",
            "PROMPT: voldemort could have seen to tell using elder clutches as a new [UNK] , all still humming . piers , and but the thought top , harry will share with [UNK] , a third wizard likely this horrible [UNK] agreed to join in the tournament . he wanted to him who ’ve uses the news from him to want to suffer . got scabbers’s to escorted to notice it covered and there , they naturally had come , [UNK] occurred to the cell and weekends into the river high to page had appeared to side a [UNK] with a twitch of it over the team in the creature’s\n",
            ".:   \t9.86%\n",
            "wall:   \t4.99%\n",
            ",:   \t3.57%\n",
            "grounds:   \t2.88%\n",
            "hall:   \t2.85%\n",
            "--------\n",
            "\n",
            "\n",
            "PROMPT: voldemort could have seen to tell using elder clutches as a new [UNK] , all still humming . piers , and but the thought top , harry will share with [UNK] , a third wizard likely this horrible [UNK] agreed to join in the tournament . he wanted to him who ’ve uses the news from him to want to suffer . got scabbers’s to escorted to notice it covered and there , they naturally had come , [UNK] occurred to the cell and weekends into the river high to page had appeared to side a [UNK] with a twitch of it over the team in the creature’s and\n",
            "the:   \t15.71%\n",
            "[UNK]:   \t12.61%\n",
            "a:   \t6.54%\n",
            "he:   \t1.5%\n",
            "his:   \t1.49%\n",
            "--------\n",
            "\n",
            "\n",
            "PROMPT: voldemort could have seen to tell using elder clutches as a new [UNK] , all still humming . piers , and but the thought top , harry will share with [UNK] , a third wizard likely this horrible [UNK] agreed to join in the tournament . he wanted to him who ’ve uses the news from him to want to suffer . got scabbers’s to escorted to notice it covered and there , they naturally had come , [UNK] occurred to the cell and weekends into the river high to page had appeared to side a [UNK] with a twitch of it over the team in the creature’s and [UNK]\n",
            ",:   \t24.98%\n",
            "of:   \t15.32%\n",
            ".:   \t6.81%\n",
            "the:   \t5.04%\n",
            "[UNK]:   \t3.69%\n",
            "--------\n",
            "\n",
            "\n",
            "PROMPT: voldemort could have seen to tell using elder clutches as a new [UNK] , all still humming . piers , and but the thought top , harry will share with [UNK] , a third wizard likely this horrible [UNK] agreed to join in the tournament . he wanted to him who ’ve uses the news from him to want to suffer . got scabbers’s to escorted to notice it covered and there , they naturally had come , [UNK] occurred to the cell and weekends into the river high to page had appeared to side a [UNK] with a twitch of it over the team in the creature’s and [UNK] of\n",
            "the:   \t26.81%\n",
            "[UNK]:   \t8.31%\n",
            "his:   \t7.77%\n",
            "a:   \t5.49%\n",
            "them:   \t3.56%\n",
            "--------\n",
            "\n",
            "\n",
            "PROMPT: voldemort could have seen to tell using elder clutches as a new [UNK] , all still humming . piers , and but the thought top , harry will share with [UNK] , a third wizard likely this horrible [UNK] agreed to join in the tournament . he wanted to him who ’ve uses the news from him to want to suffer . got scabbers’s to escorted to notice it covered and there , they naturally had come , [UNK] occurred to the cell and weekends into the river high to page had appeared to side a [UNK] with a twitch of it over the team in the creature’s and [UNK] of his\n",
            "[UNK]:   \t8.96%\n",
            "own:   \t4.63%\n",
            "hoop:   \t4.04%\n",
            "robes:   \t3.1%\n",
            "head:   \t2.58%\n",
            "--------\n",
            "\n",
            "\n",
            "PROMPT: voldemort could have seen to tell using elder clutches as a new [UNK] , all still humming . piers , and but the thought top , harry will share with [UNK] , a third wizard likely this horrible [UNK] agreed to join in the tournament . he wanted to him who ’ve uses the news from him to want to suffer . got scabbers’s to escorted to notice it covered and there , they naturally had come , [UNK] occurred to the cell and weekends into the river high to page had appeared to side a [UNK] with a twitch of it over the team in the creature’s and [UNK] of his arms\n",
            ".:   \t24.33%\n",
            "and:   \t13.95%\n",
            ",:   \t10.04%\n",
            "of:   \t2.93%\n",
            "to:   \t2.86%\n",
            "--------\n",
            "\n",
            "\n",
            "PROMPT: voldemort could have seen to tell using elder clutches as a new [UNK] , all still humming . piers , and but the thought top , harry will share with [UNK] , a third wizard likely this horrible [UNK] agreed to join in the tournament . he wanted to him who ’ve uses the news from him to want to suffer . got scabbers’s to escorted to notice it covered and there , they naturally had come , [UNK] occurred to the cell and weekends into the river high to page had appeared to side a [UNK] with a twitch of it over the team in the creature’s and [UNK] of his arms ,\n",
            "and:   \t21.6%\n",
            "which:   \t9.38%\n",
            "the:   \t5.3%\n",
            "a:   \t3.24%\n",
            "[UNK]:   \t2.73%\n",
            "--------\n",
            "\n",
            "\n",
            "PROMPT: voldemort could have seen to tell using elder clutches as a new [UNK] , all still humming . piers , and but the thought top , harry will share with [UNK] , a third wizard likely this horrible [UNK] agreed to join in the tournament . he wanted to him who ’ve uses the news from him to want to suffer . got scabbers’s to escorted to notice it covered and there , they naturally had come , [UNK] occurred to the cell and weekends into the river high to page had appeared to side a [UNK] with a twitch of it over the team in the creature’s and [UNK] of his arms , and\n",
            "the:   \t17.89%\n",
            "a:   \t7.26%\n",
            "he:   \t7.16%\n",
            "[UNK]:   \t3.02%\n",
            "they:   \t2.44%\n",
            "--------\n",
            "\n",
            "\n",
            "PROMPT: voldemort could have seen to tell using elder clutches as a new [UNK] , all still humming . piers , and but the thought top , harry will share with [UNK] , a third wizard likely this horrible [UNK] agreed to join in the tournament . he wanted to him who ’ve uses the news from him to want to suffer . got scabbers’s to escorted to notice it covered and there , they naturally had come , [UNK] occurred to the cell and weekends into the river high to page had appeared to side a [UNK] with a twitch of it over the team in the creature’s and [UNK] of his arms , and marmalade\n",
            "them:   \t9.59%\n",
            ",:   \t8.22%\n",
            "the:   \t7.15%\n",
            "harry:   \t6.54%\n",
            "it:   \t5.26%\n",
            "--------\n",
            "\n",
            "\n",
            "PROMPT: voldemort could have seen to tell using elder clutches as a new [UNK] , all still humming . piers , and but the thought top , harry will share with [UNK] , a third wizard likely this horrible [UNK] agreed to join in the tournament . he wanted to him who ’ve uses the news from him to want to suffer . got scabbers’s to escorted to notice it covered and there , they naturally had come , [UNK] occurred to the cell and weekends into the river high to page had appeared to side a [UNK] with a twitch of it over the team in the creature’s and [UNK] of his arms , and marmalade them\n",
            ".:   \t26.99%\n",
            ",:   \t14.17%\n",
            "to:   \t8.35%\n",
            "at:   \t4.38%\n",
            "out:   \t2.69%\n",
            "--------\n",
            "\n",
            "\n",
            "PROMPT: voldemort could have seen to tell using elder clutches as a new [UNK] , all still humming . piers , and but the thought top , harry will share with [UNK] , a third wizard likely this horrible [UNK] agreed to join in the tournament . he wanted to him who ’ve uses the news from him to want to suffer . got scabbers’s to escorted to notice it covered and there , they naturally had come , [UNK] occurred to the cell and weekends into the river high to page had appeared to side a [UNK] with a twitch of it over the team in the creature’s and [UNK] of his arms , and marmalade them .\n",
            ":   \t56.42%\n",
            "he:   \t5.87%\n",
            "the:   \t2.82%\n",
            "it:   \t1.91%\n",
            "they:   \t1.24%\n",
            "--------\n",
            "\n"
          ]
        }
      ]
    },
    {
      "cell_type": "code",
      "source": [
        "def generate_text_from_model(model, index_to_word, start_prompt, max_tokens=100, temperature=1.0):\n",
        "    word_to_index = {word: index for index, word in enumerate(index_to_word)}\n",
        "\n",
        "    def sample_from(probs, temperature):\n",
        "        probs = probs ** (1 / temperature)\n",
        "        probs = probs / np.sum(probs)\n",
        "        return np.random.choice(len(probs), p=probs), probs\n",
        "\n",
        "    start_tokens = [word_to_index.get(x, 1) for x in start_prompt.split()]\n",
        "    sample_token = None\n",
        "    generated_text = \"\"\n",
        "\n",
        "    while len(start_tokens) < max_tokens and sample_token != 0:\n",
        "        x = np.array([start_tokens])\n",
        "        y = model.predict(x, verbose=0)\n",
        "        sample_token, _ = sample_from(y[0][-1], temperature)\n",
        "        start_tokens.append(sample_token)\n",
        "        generated_text += \" \" + index_to_word[sample_token]\n",
        "\n",
        "    return generated_text.strip()\n",
        "\n",
        "model = lstm\n",
        "index_to_word = vocab"
      ],
      "metadata": {
        "id": "TY6CCU9iYg7g"
      },
      "execution_count": 62,
      "outputs": []
    },
    {
      "cell_type": "code",
      "source": [
        "start_prompt = \"harry saw voldemort and\"\n",
        "\n",
        "generated_text = generate_text_from_model(model, index_to_word, start_prompt, max_tokens=50, temperature=1)\n",
        "print(f\"Generated text:\\n{start_prompt + generated_text}\")"
      ],
      "metadata": {
        "colab": {
          "base_uri": "https://localhost:8080/"
        },
        "id": "L7CX-m2NYl3T",
        "outputId": "ef688724-f8fe-44c5-94a0-e5576c69f27e"
      },
      "execution_count": 67,
      "outputs": [
        {
          "output_type": "stream",
          "name": "stdout",
          "text": [
            "Generated text:\n",
            "harry saw voldemort and  scratching him once and calling him barking . his footsteps fell over over for medieval occasions . they had begun to defend the passageway ; cho’s eyebrows leapt wordlessly upward , the reductor locket fly onto their room into the pages and the spells , of\n"
          ]
        }
      ]
    },
    {
      "cell_type": "code",
      "source": [
        "start_prompt = \"harry saw voldemort and \"\n",
        "\n",
        "generated_text = generate_text_from_model(model, index_to_word, start_prompt, max_tokens=50, temperature=1)\n",
        "print(f\"Generated text:\\n{start_prompt + generated_text}\")"
      ],
      "metadata": {
        "colab": {
          "base_uri": "https://localhost:8080/"
        },
        "id": "McgLcZzfiQPY",
        "outputId": "b073f2c2-6578-422e-d045-293b03181932"
      },
      "execution_count": 68,
      "outputs": [
        {
          "output_type": "stream",
          "name": "stdout",
          "text": [
            "Generated text:\n",
            "harry saw voldemort andsuddenly pointing to a hand with his mug who fell off it , and leaned past the veela , toward her will small raspberry . the graves fell to plant bumped on the same rain gilded across before the brim bared the way in a heap\n"
          ]
        }
      ]
    },
    {
      "cell_type": "code",
      "source": [
        "start_prompt = \"hermoine wanted \"\n",
        "\n",
        "generated_text = generate_text_from_model(model, index_to_word, start_prompt, max_tokens=50, temperature=1)\n",
        "print(f\"Generated text:\\n{start_prompt + generated_text}\")"
      ],
      "metadata": {
        "colab": {
          "base_uri": "https://localhost:8080/"
        },
        "id": "Lz2l9EZqjO0E",
        "outputId": "69ea0591-67c7-4ced-842d-ccf1f0f39c7f"
      },
      "execution_count": 69,
      "outputs": [
        {
          "output_type": "stream",
          "name": "stdout",
          "text": [
            "Generated text:\n",
            "hermoine wanted you to be lying and have finished ?” ron shouted in a somber whisper , a cheerful profile . “dumbledore ’as him not an [UNK] idea in an next dementor ! he’s big of victims , the diary fell — ”\n"
          ]
        }
      ]
    },
    {
      "cell_type": "code",
      "source": [
        "start_prompt = \"hermoine wanted \"\n",
        "\n",
        "generated_text = generate_text_from_model(model, index_to_word, start_prompt, max_tokens=50, temperature=1)\n",
        "# print(f\"Generated text:\\n{start_prompt + generated_text}\")\n",
        "print(start_prompt)\n",
        "generated_text"
      ],
      "metadata": {
        "colab": {
          "base_uri": "https://localhost:8080/",
          "height": 70
        },
        "id": "dzD4yemDjdqZ",
        "outputId": "a8cb93ac-52c3-4586-b3fe-55a5e4b76692"
      },
      "execution_count": 73,
      "outputs": [
        {
          "output_type": "stream",
          "name": "stdout",
          "text": [
            "hermoine wanted \n"
          ]
        },
        {
          "output_type": "execute_result",
          "data": {
            "text/plain": [
              "'to have a plan of it this , a married goblin has ?” he breathed , pausing , clutching him hopelessly . “winky , ron , and you let you mean if we’re insulting heights — ”'"
            ],
            "application/vnd.google.colaboratory.intrinsic+json": {
              "type": "string"
            }
          },
          "metadata": {},
          "execution_count": 73
        }
      ]
    },
    {
      "cell_type": "code",
      "source": [
        "start_prompt = \"hermoine wanted \"\n",
        "\n",
        "generated_text = generate_text_from_model(model, index_to_word, start_prompt, max_tokens=50, temperature=0.75)\n",
        "# print(f\"Generated text:\\n{start_prompt + generated_text}\")\n",
        "print(start_prompt)\n",
        "generated_text"
      ],
      "metadata": {
        "colab": {
          "base_uri": "https://localhost:8080/",
          "height": 70
        },
        "id": "BnKaGK2HjlnO",
        "outputId": "904346c3-327f-4a4a-b0e8-06f94a24fb5d"
      },
      "execution_count": 74,
      "outputs": [
        {
          "output_type": "stream",
          "name": "stdout",
          "text": [
            "hermoine wanted \n"
          ]
        },
        {
          "output_type": "execute_result",
          "data": {
            "text/plain": [
              "'at a third sacrifice , i’ll be to no one of [UNK] , which will be being able to be crushed from you if he was fit a recovery we’ll accept the delay at the bishop .'"
            ],
            "application/vnd.google.colaboratory.intrinsic+json": {
              "type": "string"
            }
          },
          "metadata": {},
          "execution_count": 74
        }
      ]
    },
    {
      "cell_type": "code",
      "source": [
        "info = text_generator.generate(\n",
        "    \"hermoine wants\", max_tokens=150, temperature=1\n",
        ")"
      ],
      "metadata": {
        "colab": {
          "base_uri": "https://localhost:8080/"
        },
        "id": "Vj5H6FBMkCVo",
        "outputId": "1482d289-9ee4-439a-8170-5083ddbe042a"
      },
      "execution_count": 78,
      "outputs": [
        {
          "output_type": "stream",
          "name": "stdout",
          "text": [
            "\n",
            "generated text:\n",
            "hermoine wants the charm that arguments straight the shop fruit , the shop tower . rowling \n",
            "\n"
          ]
        }
      ]
    },
    {
      "cell_type": "code",
      "source": [
        "print_probs(info, vocab)"
      ],
      "metadata": {
        "colab": {
          "base_uri": "https://localhost:8080/"
        },
        "id": "56Wg1blfkNBJ",
        "outputId": "54a53e52-7928-4350-f910-e94cb2391211"
      },
      "execution_count": 79,
      "outputs": [
        {
          "output_type": "stream",
          "name": "stdout",
          "text": [
            "\n",
            "PROMPT: hermoine wants\n",
            "to:   \t18.09%\n",
            "the:   \t12.89%\n",
            ",:   \t9.44%\n",
            "a:   \t5.91%\n",
            "that:   \t3.34%\n",
            "--------\n",
            "\n",
            "\n",
            "PROMPT: hermoine wants the\n",
            "[UNK]:   \t4.16%\n",
            "way:   \t2.83%\n",
            "elder:   \t2.0%\n",
            "time:   \t1.67%\n",
            "thing:   \t1.5%\n",
            "--------\n",
            "\n",
            "\n",
            "PROMPT: hermoine wants the charm\n",
            ",:   \t19.52%\n",
            "to:   \t14.87%\n",
            "in:   \t11.66%\n",
            "of:   \t5.68%\n",
            "on:   \t5.56%\n",
            "--------\n",
            "\n",
            "\n",
            "PROMPT: hermoine wants the charm that\n",
            "you:   \t6.49%\n",
            "the:   \t5.26%\n",
            "he:   \t3.49%\n",
            "it:   \t2.93%\n",
            "they:   \t2.86%\n",
            "--------\n",
            "\n",
            "\n",
            "PROMPT: hermoine wants the charm that arguments\n",
            ",:   \t30.88%\n",
            "?”:   \t16.73%\n",
            "!”:   \t7.36%\n",
            ".:   \t4.18%\n",
            "and:   \t3.28%\n",
            "--------\n",
            "\n",
            "\n",
            "PROMPT: hermoine wants the charm that arguments straight\n",
            "past:   \t10.33%\n",
            ",:   \t9.11%\n",
            "right:   \t5.84%\n",
            "over:   \t5.34%\n",
            "to:   \t4.56%\n",
            "--------\n",
            "\n",
            "\n",
            "PROMPT: hermoine wants the charm that arguments straight the\n",
            "quaffle:   \t4.94%\n",
            "[UNK]:   \t4.7%\n",
            "grounds:   \t3.44%\n",
            "stairs:   \t2.6%\n",
            "field:   \t1.53%\n",
            "--------\n",
            "\n",
            "\n",
            "PROMPT: hermoine wants the charm that arguments straight the shop\n",
            "in:   \t10.96%\n",
            ",:   \t7.44%\n",
            "[UNK]:   \t5.71%\n",
            ".:   \t4.71%\n",
            "of:   \t3.81%\n",
            "--------\n",
            "\n",
            "\n",
            "PROMPT: hermoine wants the charm that arguments straight the shop fruit\n",
            ",:   \t25.53%\n",
            "and:   \t6.66%\n",
            ".:   \t4.69%\n",
            "-:   \t3.54%\n",
            "up:   \t3.02%\n",
            "--------\n",
            "\n",
            "\n",
            "PROMPT: hermoine wants the charm that arguments straight the shop fruit ,\n",
            "and:   \t15.39%\n",
            "which:   \t7.29%\n",
            "the:   \t7.18%\n",
            "[UNK]:   \t3.58%\n",
            "harry:   \t2.81%\n",
            "--------\n",
            "\n",
            "\n",
            "PROMPT: hermoine wants the charm that arguments straight the shop fruit , the\n",
            "[UNK]:   \t6.9%\n",
            "grounds:   \t2.89%\n",
            "third:   \t2.19%\n",
            "main:   \t2.19%\n",
            "elder:   \t2.05%\n",
            "--------\n",
            "\n",
            "\n",
            "PROMPT: hermoine wants the charm that arguments straight the shop fruit , the shop\n",
            "[UNK]:   \t15.23%\n",
            ",:   \t7.53%\n",
            "in:   \t5.17%\n",
            "survives:   \t3.37%\n",
            ".:   \t2.12%\n",
            "--------\n",
            "\n",
            "\n",
            "PROMPT: hermoine wants the charm that arguments straight the shop fruit , the shop tower\n",
            ",:   \t37.22%\n",
            ".:   \t7.87%\n",
            "was:   \t7.85%\n",
            "?”:   \t4.28%\n",
            "will:   \t3.25%\n",
            "--------\n",
            "\n",
            "\n",
            "PROMPT: hermoine wants the charm that arguments straight the shop fruit , the shop tower .\n",
            ":   \t11.86%\n",
            ".:   \t7.14%\n",
            "the:   \t5.07%\n",
            "he:   \t4.29%\n",
            "rowling:   \t3.99%\n",
            "--------\n",
            "\n",
            "\n",
            "PROMPT: hermoine wants the charm that arguments straight the shop fruit , the shop tower . rowling\n",
            ":   \t99.44%\n",
            "[UNK]:   \t0.21%\n",
            "in:   \t0.08%\n",
            "on:   \t0.02%\n",
            "with:   \t0.02%\n",
            "--------\n",
            "\n"
          ]
        }
      ]
    },
    {
      "cell_type": "code",
      "source": [
        "start_prompt = \"Harry rushed towrads Voldemort and witnessed \"\n",
        "\n",
        "generated_text = generate_text_from_model(model, index_to_word, start_prompt, max_tokens=50, temperature=1)\n",
        "# print(f\"Generated text:\\n{start_prompt + generated_text}\")\n",
        "print(start_prompt)\n",
        "generated_text"
      ],
      "metadata": {
        "colab": {
          "base_uri": "https://localhost:8080/",
          "height": 53
        },
        "id": "10F99TtJkfW-",
        "outputId": "84fac607-2a92-4507-bd79-8fe95471519b"
      },
      "execution_count": 82,
      "outputs": [
        {
          "output_type": "stream",
          "name": "stdout",
          "text": [
            "Harry rushed towrads Voldemort and witnessed \n"
          ]
        },
        {
          "output_type": "execute_result",
          "data": {
            "text/plain": [
              "'them , looking out -of -bounds when anyone would feel an appearance that nothing .'"
            ],
            "application/vnd.google.colaboratory.intrinsic+json": {
              "type": "string"
            }
          },
          "metadata": {},
          "execution_count": 82
        }
      ]
    },
    {
      "cell_type": "code",
      "source": [
        "start_prompt = \"Harry rushed towrads Voldemort and witnessed \"\n",
        "\n",
        "generated_text = generate_text_from_model(model, index_to_word, start_prompt, max_tokens=50, temperature=1)\n",
        "# print(f\"Generated text:\\n{start_prompt + generated_text}\")\n",
        "print(start_prompt)\n",
        "generated_text"
      ],
      "metadata": {
        "colab": {
          "base_uri": "https://localhost:8080/",
          "height": 70
        },
        "id": "Oex_o-FJkw-X",
        "outputId": "8bf6f25c-dc14-402a-a24c-21ffc0255f5a"
      },
      "execution_count": 84,
      "outputs": [
        {
          "output_type": "stream",
          "name": "stdout",
          "text": [
            "Harry rushed towrads Voldemort and witnessed \n"
          ]
        },
        {
          "output_type": "execute_result",
          "data": {
            "text/plain": [
              "'the scene in the bag , and rows itself toward smoothly witches and blood again , heavily draped with the rack sore new [UNK] , but the water seemed berserk on the shop and wilder [UNK] . though he grabbed a sickening slope to'"
            ],
            "application/vnd.google.colaboratory.intrinsic+json": {
              "type": "string"
            }
          },
          "metadata": {},
          "execution_count": 84
        }
      ]
    },
    {
      "cell_type": "code",
      "source": [
        "start_prompt = \"Voldemort's son joined hogwards but \"\n",
        "\n",
        "generated_text = generate_text_from_model(model, index_to_word, start_prompt, max_tokens=50, temperature=1)\n",
        "# print(f\"Generated text:\\n{start_prompt + generated_text}\")\n",
        "print(start_prompt)\n",
        "generated_text"
      ],
      "metadata": {
        "colab": {
          "base_uri": "https://localhost:8080/",
          "height": 70
        },
        "id": "5F98EJc-lLeK",
        "outputId": "290284d0-2ff0-4580-a24c-0cc5af84cdde"
      },
      "execution_count": 86,
      "outputs": [
        {
          "output_type": "stream",
          "name": "stdout",
          "text": [
            "Voldemort's son joined hogwards but \n"
          ]
        },
        {
          "output_type": "execute_result",
          "data": {
            "text/plain": [
              "'it’s what you sought harm to go [UNK] , when delay them are the events . reality feels to ask merope tonight so about him as he survives the heads , what’s to create . we made contact us about to extract the ministry of'"
            ],
            "application/vnd.google.colaboratory.intrinsic+json": {
              "type": "string"
            }
          },
          "metadata": {},
          "execution_count": 86
        }
      ]
    },
    {
      "cell_type": "code",
      "source": [
        "start_prompt = \"Voldemort's son joined hogwards but \"\n",
        "\n",
        "generated_text = generate_text_from_model(model, index_to_word, start_prompt, max_tokens=150, temperature=0.75)\n",
        "# print(f\"Generated text:\\n{start_prompt + generated_text}\")\n",
        "print(start_prompt)\n",
        "generated_text"
      ],
      "metadata": {
        "colab": {
          "base_uri": "https://localhost:8080/",
          "height": 53
        },
        "id": "Qk7RoSGJlc7f",
        "outputId": "b595a197-c545-4f79-9649-a56e7b6ddaff"
      },
      "execution_count": 89,
      "outputs": [
        {
          "output_type": "stream",
          "name": "stdout",
          "text": [
            "Voldemort's son joined hogwards but \n"
          ]
        },
        {
          "output_type": "execute_result",
          "data": {
            "text/plain": [
              "'they will consent work , to this discussion of the world . . . .”'"
            ],
            "application/vnd.google.colaboratory.intrinsic+json": {
              "type": "string"
            }
          },
          "metadata": {},
          "execution_count": 89
        }
      ]
    },
    {
      "cell_type": "code",
      "source": [
        "start_prompt = \"Even though harry destroyed the elder wand, it was then rebuilt by \"\n",
        "\n",
        "generated_text = generate_text_from_model(model, index_to_word, start_prompt, max_tokens=150, temperature=0.75)\n",
        "# print(f\"Generated text:\\n{start_prompt + generated_text}\")\n",
        "print(start_prompt)\n",
        "generated_text"
      ],
      "metadata": {
        "colab": {
          "base_uri": "https://localhost:8080/",
          "height": 53
        },
        "id": "mTBW03m8lqL4",
        "outputId": "2b59d988-57c6-43a4-8392-67e718ff2296"
      },
      "execution_count": 90,
      "outputs": [
        {
          "output_type": "stream",
          "name": "stdout",
          "text": [
            "Even though harry destroyed the elder wand, it was then rebuilt by \n"
          ]
        },
        {
          "output_type": "execute_result",
          "data": {
            "text/plain": [
              "'the meantime , from the wall twice so [UNK] [UNK] , which were not supposed to be sure it was nowhere properly on , he was just amazed .'"
            ],
            "application/vnd.google.colaboratory.intrinsic+json": {
              "type": "string"
            }
          },
          "metadata": {},
          "execution_count": 90
        }
      ]
    },
    {
      "cell_type": "code",
      "source": [
        "start_prompt = \"Even though harry destroyed the elder wand, it was then rebuilt by \"\n",
        "\n",
        "generated_text = generate_text_from_model(model, index_to_word, start_prompt, max_tokens=150, temperature=0.8)\n",
        "# print(f\"Generated text:\\n{start_prompt + generated_text}\")\n",
        "print(start_prompt)\n",
        "generated_text"
      ],
      "metadata": {
        "colab": {
          "base_uri": "https://localhost:8080/",
          "height": 122
        },
        "id": "ugYApabPmHPR",
        "outputId": "4a88e20c-7b87-49ef-d1dc-91edfb700a0b"
      },
      "execution_count": 91,
      "outputs": [
        {
          "output_type": "stream",
          "name": "stdout",
          "text": [
            "Even though harry destroyed the elder wand, it was then rebuilt by \n"
          ]
        },
        {
          "output_type": "execute_result",
          "data": {
            "text/plain": [
              "'one experts , which i only have wizard managed to [UNK] all to potter , what would be always this out of retirement that the inquisitorial squad , it , whether you sees contact in the end of grindelwald , which is not necessary on the point , could ignore my toad , you think to accept me [UNK] [UNK] things , he was regularly , and madam pomfrey made more reasons you as you -know -who -must .w room was hurting to find it , you see anyone , but it passed to serve the end of [UNK] cunning as he had taken him with mummy , took the dursleys , you make more rare wizarding maladies than lessons to extract as august and monsters , neither ! what concerns , it , he was banished to'"
            ],
            "application/vnd.google.colaboratory.intrinsic+json": {
              "type": "string"
            }
          },
          "metadata": {},
          "execution_count": 91
        }
      ]
    },
    {
      "cell_type": "code",
      "source": [
        "start_prompt = \"Sirius \"\n",
        "\n",
        "generated_text = generate_text_from_model(model, index_to_word, start_prompt, max_tokens=50, temperature=0.85)\n",
        "# print(f\"Generated text:\\n{start_prompt + generated_text}\")\n",
        "print(start_prompt)\n",
        "generated_text"
      ],
      "metadata": {
        "colab": {
          "base_uri": "https://localhost:8080/",
          "height": 53
        },
        "id": "HU7f7dC6mqMf",
        "outputId": "30b76813-61fb-4071-97ac-996eba78f5ea"
      },
      "execution_count": 99,
      "outputs": [
        {
          "output_type": "stream",
          "name": "stdout",
          "text": [
            "Sirius \n"
          ]
        },
        {
          "output_type": "execute_result",
          "data": {
            "text/plain": [
              "', the committee of ’em , which does not forgive him , we were all training , and you will be trapped to him on the train'"
            ],
            "application/vnd.google.colaboratory.intrinsic+json": {
              "type": "string"
            }
          },
          "metadata": {},
          "execution_count": 99
        }
      ]
    },
    {
      "cell_type": "code",
      "source": [
        "start_prompt = random.sample(vocab, 2)\n",
        "start_prompt = ' '.join(start_prompt)\n",
        "generated_text = generate_text_from_model(model, index_to_word, start_prompt, max_tokens=50, temperature=0.85)\n",
        "# print(f\"Generated text:\\n{start_prompt + generated_text}\")\n",
        "print(start_prompt)\n",
        "generated_text"
      ],
      "metadata": {
        "colab": {
          "base_uri": "https://localhost:8080/",
          "height": 53
        },
        "id": "EoVVEjdUnHHW",
        "outputId": "458afdd0-25a6-4d96-a19d-a4c955e656de"
      },
      "execution_count": 112,
      "outputs": [
        {
          "output_type": "stream",
          "name": "stdout",
          "text": [
            "ending repeated\n"
          ]
        },
        {
          "output_type": "execute_result",
          "data": {
            "text/plain": [
              "'them at the top of [UNK] in the [UNK] halloween , though you cannot bear be able to suffer .”'"
            ],
            "application/vnd.google.colaboratory.intrinsic+json": {
              "type": "string"
            }
          },
          "metadata": {},
          "execution_count": 112
        }
      ]
    },
    {
      "cell_type": "code",
      "source": [
        "start_prompt = random.sample(vocab, 1)\n",
        "start_prompt = ' '.join(start_prompt)\n",
        "generated_text = generate_text_from_model(model, index_to_word, start_prompt, max_tokens=50, temperature=0.85)\n",
        "# print(f\"Generated text:\\n{start_prompt + generated_text}\")\n",
        "print(start_prompt)\n",
        "generated_text"
      ],
      "metadata": {
        "colab": {
          "base_uri": "https://localhost:8080/",
          "height": 70
        },
        "id": "wrIhWe8tnqOX",
        "outputId": "1e7cecc5-1fee-4734-ed6b-3e8ff370047c"
      },
      "execution_count": 117,
      "outputs": [
        {
          "output_type": "stream",
          "name": "stdout",
          "text": [
            "puffy\n"
          ]
        },
        {
          "output_type": "execute_result",
          "data": {
            "text/plain": [
              "'underwater and hermione , ron , ron , whom tracing her gaze slid into the front of this way to the trunks in front of the hoop . it was him , voldemort’s dear as usual than make the tiniest longer move out to the counter , the wall'"
            ],
            "application/vnd.google.colaboratory.intrinsic+json": {
              "type": "string"
            }
          },
          "metadata": {},
          "execution_count": 117
        }
      ]
    },
    {
      "cell_type": "code",
      "source": [
        "start_prompt = \"Elder wand was \"\n",
        "\n",
        "generated_text = generate_text_from_model(model, index_to_word, start_prompt, max_tokens=50, temperature=1)\n",
        "# print(f\"Generated text:\\n{start_prompt + generated_text}\")\n",
        "print(start_prompt)\n",
        "generated_text"
      ],
      "metadata": {
        "colab": {
          "base_uri": "https://localhost:8080/",
          "height": 70
        },
        "id": "L15WD3l1pM89",
        "outputId": "5c867dec-c30e-4db9-fe41-c6560bc5a0f8"
      },
      "execution_count": 122,
      "outputs": [
        {
          "output_type": "stream",
          "name": "stdout",
          "text": [
            "Elder wand was \n"
          ]
        },
        {
          "output_type": "execute_result",
          "data": {
            "text/plain": [
              "'leaning past the time top before steps on the classroom passed . the night were using [UNK] , the keep present or him went and the [UNK] fridge , it and derrick .'"
            ],
            "application/vnd.google.colaboratory.intrinsic+json": {
              "type": "string"
            }
          },
          "metadata": {},
          "execution_count": 122
        }
      ]
    },
    {
      "cell_type": "code",
      "source": [
        "start_prompt = \"Snape \"\n",
        "\n",
        "generated_text = generate_text_from_model(model, index_to_word, start_prompt, max_tokens=50, temperature=1)\n",
        "# print(f\"Generated text:\\n{start_prompt + generated_text}\")\n",
        "print(start_prompt)\n",
        "generated_text"
      ],
      "metadata": {
        "colab": {
          "base_uri": "https://localhost:8080/",
          "height": 70
        },
        "id": "CAhRwWmLpSMd",
        "outputId": "702476b3-a3bf-4d78-8fb3-e1cf55132f6d"
      },
      "execution_count": 127,
      "outputs": [
        {
          "output_type": "stream",
          "name": "stdout",
          "text": [
            "Snape \n"
          ]
        },
        {
          "output_type": "execute_result",
          "data": {
            "text/plain": [
              "'pardon bode and a friend of deliberation . this more [UNK] of july was becoming -blood prince snare , whose appearance was supposed to be sending it this .l .s had been [UNK] from voldemort’s middle -ended fingernails , once a walk gillyweed and myrtle fell up through to'"
            ],
            "application/vnd.google.colaboratory.intrinsic+json": {
              "type": "string"
            }
          },
          "metadata": {},
          "execution_count": 127
        }
      ]
    },
    {
      "cell_type": "code",
      "source": [
        "start_prompt = \"After the events of hogwards \"\n",
        "\n",
        "generated_text = generate_text_from_model(model, index_to_word, start_prompt, max_tokens=500, temperature=1)\n",
        "# print(f\"Generated text:\\n{start_prompt + generated_text}\")\n",
        "print(start_prompt)\n",
        "generated_text"
      ],
      "metadata": {
        "colab": {
          "base_uri": "https://localhost:8080/",
          "height": 105
        },
        "id": "4EgR0pKMpmCZ",
        "outputId": "02b4b8d4-6296-4402-f5f3-3811ea87965e"
      },
      "execution_count": 128,
      "outputs": [
        {
          "output_type": "stream",
          "name": "stdout",
          "text": [
            "After the events of hogwards \n"
          ]
        },
        {
          "output_type": "execute_result",
          "data": {
            "text/plain": [
              "', won’t mention harry’s time , would forget about my palace , a cry finished , we -know -who -must -be -named to think , countless us , be when you mean , it [UNK] , he knows he’s allowed him on . goyle , i’ll [UNK] habit , it would have foreseen , they must dispose give a little a kind of wizards’ [UNK] room , the ball poltergeist in king’s to safely into the confederation of the kitchens , gornuk had told this joke , which scar was really joke , will miss a campaign , will not owls'"
            ],
            "application/vnd.google.colaboratory.intrinsic+json": {
              "type": "string"
            }
          },
          "metadata": {},
          "execution_count": 128
        }
      ]
    },
    {
      "cell_type": "code",
      "source": [
        "start_prompt = \"After the events of hogwards \"\n",
        "\n",
        "generated_text = generate_text_from_model(model, index_to_word, start_prompt, max_tokens=500, temperature=0.9)\n",
        "# print(f\"Generated text:\\n{start_prompt + generated_text}\")\n",
        "print(start_prompt)\n",
        "generated_text"
      ],
      "metadata": {
        "colab": {
          "base_uri": "https://localhost:8080/",
          "height": 53
        },
        "id": "QV-FYT96qMak",
        "outputId": "2a42b646-d954-447a-f530-b0654e44f853"
      },
      "execution_count": 135,
      "outputs": [
        {
          "output_type": "stream",
          "name": "stdout",
          "text": [
            "After the events of hogwards \n"
          ]
        },
        {
          "output_type": "execute_result",
          "data": {
            "text/plain": [
              "'molly , firenze will not bring a different period about all beside the cellar or you was slaughtered to your inquisitorial squad .'"
            ],
            "application/vnd.google.colaboratory.intrinsic+json": {
              "type": "string"
            }
          },
          "metadata": {},
          "execution_count": 135
        }
      ]
    },
    {
      "cell_type": "code",
      "source": [
        "start_prompt = \"Hocrux \"\n",
        "\n",
        "generated_text = generate_text_from_model(model, index_to_word, start_prompt, max_tokens=50, temperature=0.9)\n",
        "# print(f\"Generated text:\\n{start_prompt + generated_text}\")\n",
        "print(start_prompt)\n",
        "generated_text"
      ],
      "metadata": {
        "colab": {
          "base_uri": "https://localhost:8080/",
          "height": 70
        },
        "id": "F566eHFJqcrG",
        "outputId": "8a7a755f-ad59-49ee-dbf6-711a2b8c6629"
      },
      "execution_count": 140,
      "outputs": [
        {
          "output_type": "stream",
          "name": "stdout",
          "text": [
            "Hocrux \n"
          ]
        },
        {
          "output_type": "execute_result",
          "data": {
            "text/plain": [
              "', which was not really reappearing if [UNK] about the inquisitorial squad together . . omens , that’s the reason most as he was feeling very to wizard . . . but we won’t send us it’s not performing weeks about unstable , and it was no good of'"
            ],
            "application/vnd.google.colaboratory.intrinsic+json": {
              "type": "string"
            }
          },
          "metadata": {},
          "execution_count": 140
        }
      ]
    },
    {
      "cell_type": "code",
      "source": [
        "start_prompt = \"Dumbledore fought\"\n",
        "\n",
        "generated_text = generate_text_from_model(model, index_to_word, start_prompt, max_tokens=50, temperature=0.9)\n",
        "# print(f\"Generated text:\\n{start_prompt + generated_text}\")\n",
        "print(start_prompt)\n",
        "generated_text"
      ],
      "metadata": {
        "colab": {
          "base_uri": "https://localhost:8080/",
          "height": 70
        },
        "id": "lCSeKMR0q3AI",
        "outputId": "520e0a31-abc5-4523-db8c-59658c5c20e8"
      },
      "execution_count": 153,
      "outputs": [
        {
          "output_type": "stream",
          "name": "stdout",
          "text": [
            "Dumbledore fought\n"
          ]
        },
        {
          "output_type": "execute_result",
          "data": {
            "text/plain": [
              "'the president of the rest of veela , dobby were elder dad up me , we were doing to allow me , or [UNK] me to be buying the thing , be in the rubble across a third time this ! i dropped to your ownership , with'"
            ],
            "application/vnd.google.colaboratory.intrinsic+json": {
              "type": "string"
            }
          },
          "metadata": {},
          "execution_count": 153
        }
      ]
    },
    {
      "cell_type": "code",
      "source": [
        "start_prompt = \"The strongest wizard\"\n",
        "\n",
        "generated_text = generate_text_from_model(model, index_to_word, start_prompt, max_tokens=50, temperature=0.9)\n",
        "# print(f\"Generated text:\\n{start_prompt + generated_text}\")\n",
        "print(start_prompt)\n",
        "generated_text"
      ],
      "metadata": {
        "colab": {
          "base_uri": "https://localhost:8080/",
          "height": 70
        },
        "id": "FUXiUPGzrYQ3",
        "outputId": "214d4af1-56dd-4b0f-e93f-0a8c6d35ad53"
      },
      "execution_count": 155,
      "outputs": [
        {
          "output_type": "stream",
          "name": "stdout",
          "text": [
            "The strongest wizard\n"
          ]
        },
        {
          "output_type": "execute_result",
          "data": {
            "text/plain": [
              "', harry , the [UNK] steps to king’s look to a run . “are a [UNK] [UNK] wizard just recognized the ministry and delicate - exhaust murders is genially up on the covers behind a shop friend , well , if whoever was guarding its subject —'"
            ],
            "application/vnd.google.colaboratory.intrinsic+json": {
              "type": "string"
            }
          },
          "metadata": {},
          "execution_count": 155
        }
      ]
    },
    {
      "cell_type": "markdown",
      "source": [
        "## Generating a meaningful story"
      ],
      "metadata": {
        "id": "vTGJ4PC7spvD"
      }
    },
    {
      "cell_type": "code",
      "source": [
        "start_prompt = \"Harry saw a suspecious man\"\n",
        "\n",
        "generated_text = generate_text_from_model(model, index_to_word, start_prompt, max_tokens=10, temperature=0.9)\n",
        "# print(f\"Generated text:\\n{start_prompt + generated_text}\")\n",
        "print(start_prompt)\n",
        "generated_text"
      ],
      "metadata": {
        "colab": {
          "base_uri": "https://localhost:8080/",
          "height": 70
        },
        "id": "_FRbynm3sU_v",
        "outputId": "accae40c-66a3-4415-ae71-3a403d1a8a44"
      },
      "execution_count": 157,
      "outputs": [
        {
          "output_type": "stream",
          "name": "stdout",
          "text": [
            "Harry saw a suspecious man\n"
          ]
        },
        {
          "output_type": "execute_result",
          "data": {
            "text/plain": [
              "'as they soared onto one . “jus’ without all [UNK] . bleedin’ blood , neither you don’t seem more sure that we wait me . “karkaroff can’t accept the [UNK] is allowed out to spend us — ”'"
            ],
            "application/vnd.google.colaboratory.intrinsic+json": {
              "type": "string"
            }
          },
          "metadata": {},
          "execution_count": 157
        }
      ]
    },
    {
      "cell_type": "code",
      "source": [
        "start_prompt = \"So harry followed him and found out\"\n",
        "\n",
        "generated_text = generate_text_from_model(model, index_to_word, start_prompt, max_tokens=30, temperature=0.9)\n",
        "# print(f\"Generated text:\\n{start_prompt + generated_text}\")\n",
        "print(start_prompt)\n",
        "generated_text"
      ],
      "metadata": {
        "colab": {
          "base_uri": "https://localhost:8080/",
          "height": 53
        },
        "id": "Dnz7I20fsjIB",
        "outputId": "a987bad8-e5be-48c4-9593-0b12bef67a05"
      },
      "execution_count": 160,
      "outputs": [
        {
          "output_type": "stream",
          "name": "stdout",
          "text": [
            "So harry followed him and found out\n"
          ]
        },
        {
          "output_type": "execute_result",
          "data": {
            "text/plain": [
              "'of rubble on the bag a lawns between her hands very startled . “winky was throwing a fight before you see there’s sirius'"
            ],
            "application/vnd.google.colaboratory.intrinsic+json": {
              "type": "string"
            }
          },
          "metadata": {},
          "execution_count": 160
        }
      ]
    },
    {
      "cell_type": "code",
      "source": [
        "start_prompt = \"sirius joined harry in the fight against\"\n",
        "\n",
        "generated_text = generate_text_from_model(model, index_to_word, start_prompt, max_tokens=30, temperature=0.9)\n",
        "# print(f\"Generated text:\\n{start_prompt + generated_text}\")\n",
        "print(start_prompt)\n",
        "generated_text"
      ],
      "metadata": {
        "colab": {
          "base_uri": "https://localhost:8080/",
          "height": 53
        },
        "id": "rI18g05wsyXX",
        "outputId": "3cbe3170-ab25-4f91-ee03-b21e0f65b717"
      },
      "execution_count": 163,
      "outputs": [
        {
          "output_type": "stream",
          "name": "stdout",
          "text": [
            "sirius joined harry in the fight against\n"
          ]
        },
        {
          "output_type": "execute_result",
          "data": {
            "text/plain": [
              "'the bottom of under , and burst as the smell of one -armed appeared she had dizzy . “master had have been given'"
            ],
            "application/vnd.google.colaboratory.intrinsic+json": {
              "type": "string"
            }
          },
          "metadata": {},
          "execution_count": 163
        }
      ]
    },
    {
      "cell_type": "code",
      "source": [
        "start_prompt = \"now he was fighting alone\"\n",
        "\n",
        "generated_text = generate_text_from_model(model, index_to_word, start_prompt, max_tokens=30, temperature=0.9)\n",
        "# print(f\"Generated text:\\n{start_prompt + generated_text}\")\n",
        "print(start_prompt)\n",
        "generated_text"
      ],
      "metadata": {
        "colab": {
          "base_uri": "https://localhost:8080/",
          "height": 53
        },
        "id": "vi3l8VEjs_bu",
        "outputId": "6e97f222-cf51-4e9e-d6b6-f8325b3132a2"
      },
      "execution_count": 164,
      "outputs": [
        {
          "output_type": "stream",
          "name": "stdout",
          "text": [
            "now he was fighting alone\n"
          ]
        },
        {
          "output_type": "execute_result",
          "data": {
            "text/plain": [
              "'to further journey to enemies ; how only him , on the tower himself , as he was a moments and allowed the halloween little'"
            ],
            "application/vnd.google.colaboratory.intrinsic+json": {
              "type": "string"
            }
          },
          "metadata": {},
          "execution_count": 164
        }
      ]
    },
    {
      "cell_type": "code",
      "source": [
        "start_prompt = \"he took out his wand and\"\n",
        "\n",
        "generated_text = generate_text_from_model(model, index_to_word, start_prompt, max_tokens=30, temperature=0.9)\n",
        "# print(f\"Generated text:\\n{start_prompt + generated_text}\")\n",
        "print(start_prompt)\n",
        "generated_text"
      ],
      "metadata": {
        "colab": {
          "base_uri": "https://localhost:8080/",
          "height": 53
        },
        "id": "diI1yKkOtUE7",
        "outputId": "6fa83430-a9c3-4e97-9610-fce3a50cb9e3"
      },
      "execution_count": 168,
      "outputs": [
        {
          "output_type": "stream",
          "name": "stdout",
          "text": [
            "he took out his wand and\n"
          ]
        },
        {
          "output_type": "execute_result",
          "data": {
            "text/plain": [
              "'ron , it fell backward onto the wreckage to a palace , harry , and the ideal combination of whom was wasting to [UNK]'"
            ],
            "application/vnd.google.colaboratory.intrinsic+json": {
              "type": "string"
            }
          },
          "metadata": {},
          "execution_count": 168
        }
      ]
    },
    {
      "cell_type": "code",
      "source": [],
      "metadata": {
        "id": "V7G2-IfCtbZY"
      },
      "execution_count": 167,
      "outputs": []
    }
  ]
}